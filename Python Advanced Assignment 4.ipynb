{
 "cells": [
  {
   "cell_type": "markdown",
   "id": "c570c0df",
   "metadata": {},
   "source": [
    "Q1. Which two operator overloading methods can you use in your classes to support iteration?"
   ]
  },
  {
   "cell_type": "markdown",
   "id": "0793f6d4",
   "metadata": {},
   "source": [
    "We use the iter() and next() methods to support iteration in our classes.\n",
    "\n",
    "The iter() method returns the iterator object and is implicitly called at the start of loops.\n",
    "\n",
    "The next() method returns the next value from the iterator and is implicitly called at each loop increment"
   ]
  },
  {
   "cell_type": "markdown",
   "id": "95dd0bdd",
   "metadata": {},
   "source": [
    "Q2. In what contexts do the two operator overloading methods manage printing?"
   ]
  },
  {
   "cell_type": "code",
   "execution_count": 3,
   "id": "26c60fdb",
   "metadata": {},
   "outputs": [],
   "source": [
    "class Employee:\n",
    "    def __init__(self, aname, asalary, arole):\n",
    "        self.name = aname\n",
    "        self.salary = asalary\n",
    "        self.role = arole\n",
    "        \n",
    "    def print_details(self):\n",
    "        return f\"The name of the Employee is {self.name}, Salary is {self.salary} and the role is {self.role}\"\n",
    "    \n",
    "    def __add__(self, other):\n",
    "        return self.salary + other.salary\n",
    "    \n",
    "    def __truediv__(self, other):\n",
    "        return self.salary / other.salary\n",
    "    \n",
    "    def __repr__(self):\n",
    "        return f\"Employee:-- {self.name}, {self.salary}, {self.role}\""
   ]
  },
  {
   "cell_type": "code",
   "execution_count": 5,
   "id": "f67511f7",
   "metadata": {},
   "outputs": [],
   "source": [
    "emp1 = ('Divyanshu', 25000, 'analyst')"
   ]
  },
  {
   "cell_type": "code",
   "execution_count": 6,
   "id": "ebdc1f15",
   "metadata": {},
   "outputs": [
    {
     "name": "stdout",
     "output_type": "stream",
     "text": [
      "('Divyanshu', 25000, 'analyst')\n"
     ]
    }
   ],
   "source": [
    "print(emp1)"
   ]
  },
  {
   "cell_type": "code",
   "execution_count": 7,
   "id": "37f5f303",
   "metadata": {},
   "outputs": [],
   "source": [
    "class Student:\n",
    "    def __init__(self, m1, m2):\n",
    "        self.m1 = m1\n",
    "        self.m2 = m2\n",
    "    \n",
    "    def __str__(self):\n",
    "        return f\"{self.m1}  {self.m2}\""
   ]
  },
  {
   "cell_type": "code",
   "execution_count": 8,
   "id": "4ae6aa0b",
   "metadata": {},
   "outputs": [],
   "source": [
    "stu1 = 67, 76"
   ]
  },
  {
   "cell_type": "code",
   "execution_count": 9,
   "id": "1d058f8d",
   "metadata": {},
   "outputs": [
    {
     "name": "stdout",
     "output_type": "stream",
     "text": [
      "(67, 76)\n"
     ]
    }
   ],
   "source": [
    "print(stu1)"
   ]
  },
  {
   "cell_type": "markdown",
   "id": "b57f49ff",
   "metadata": {},
   "source": [
    "The str() and repr() methods manage printing in Python. The str() method returns the string representation of the object while the repr() method returns the object’s string representation that can be used to recreate the object"
   ]
  },
  {
   "cell_type": "markdown",
   "id": "d3ced1a7",
   "metadata": {},
   "source": [
    "Q3. In a class, how do you intercept slice operations?"
   ]
  },
  {
   "cell_type": "markdown",
   "id": "62eec0ca",
   "metadata": {},
   "source": [
    "In a class use of slice() in __getitem__ method is used for intercept slice operation. This slice method is provided with start integer number, stop integer number and step integer number.\n",
    "\n",
    "Example: __getitem__(slice(start,stop,step))"
   ]
  },
  {
   "cell_type": "markdown",
   "id": "e8342c70",
   "metadata": {},
   "source": [
    "Q4. In a class, how do you capture in-place addition?"
   ]
  },
  {
   "cell_type": "code",
   "execution_count": 10,
   "id": "a23f57f0",
   "metadata": {},
   "outputs": [
    {
     "name": "stdout",
     "output_type": "stream",
     "text": [
      "300\n"
     ]
    }
   ],
   "source": [
    "class Book:\n",
    "    def __init__(self,pages):\n",
    "        self.pages = pages\n",
    "    def __iadd__(self,other):\n",
    "        self.pages += other.pages\n",
    "        return self.pages\n",
    "        \n",
    "b1 = Book(100)\n",
    "b2 = Book(200)\n",
    "b1+=b2\n",
    "print(b1)"
   ]
  },
  {
   "cell_type": "markdown",
   "id": "92f6d0ff",
   "metadata": {},
   "source": [
    "Q5. When is it appropriate to use operator overloading?"
   ]
  },
  {
   "cell_type": "markdown",
   "id": "7b3c50b1",
   "metadata": {},
   "source": [
    "Operator overloading is used when we want to use an operator other than its normal operation to have different meaning according to the context required in user defined function."
   ]
  },
  {
   "cell_type": "code",
   "execution_count": 11,
   "id": "16bc9826",
   "metadata": {},
   "outputs": [],
   "source": [
    "class Employee:\n",
    "    def __init__(self, aname, asalary, arole):\n",
    "        self.name = aname\n",
    "        self.salary = asalary\n",
    "        self.role = arole\n",
    "        \n",
    "    def print_details(self):\n",
    "        return f\"The name of the Employee is {self.name}, Salary is {self.salary} and the role is {self.role}\"\n",
    "    \n",
    "    def __add__(self, other):\n",
    "        return self.salary + other.salary\n",
    "    \n",
    "    def __truediv__(self, other):\n",
    "        return self.salary / other.salary\n",
    "    \n",
    "    def __repr__(self):\n",
    "        return f\"Employee:-- {self.name}, {self.salary}, {self.role}\""
   ]
  },
  {
   "cell_type": "code",
   "execution_count": null,
   "id": "46385434",
   "metadata": {},
   "outputs": [],
   "source": []
  }
 ],
 "metadata": {
  "kernelspec": {
   "display_name": "Python 3 (ipykernel)",
   "language": "python",
   "name": "python3"
  },
  "language_info": {
   "codemirror_mode": {
    "name": "ipython",
    "version": 3
   },
   "file_extension": ".py",
   "mimetype": "text/x-python",
   "name": "python",
   "nbconvert_exporter": "python",
   "pygments_lexer": "ipython3",
   "version": "3.9.12"
  }
 },
 "nbformat": 4,
 "nbformat_minor": 5
}
