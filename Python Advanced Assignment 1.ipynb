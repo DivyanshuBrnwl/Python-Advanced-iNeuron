{
 "cells": [
  {
   "cell_type": "markdown",
   "id": "7a525873",
   "metadata": {},
   "source": [
    "Q1. What is the purpose of Python&#39;s OOP?"
   ]
  },
  {
   "cell_type": "markdown",
   "id": "ce70c7a9",
   "metadata": {},
   "source": [
    "A. Provides a clear program structure and clean code.\n",
    "\n",
    "B. Boosts easy maintainence, reusability and updation of the existing code base.\n",
    "\n",
    "C. Helps to solve real world problems in a much easier way.\n",
    "\n",
    "D. Flexibility through polymorphism.\n",
    "\n",
    "E. Reuse of code through inheritance"
   ]
  },
  {
   "cell_type": "markdown",
   "id": "237eb888",
   "metadata": {},
   "source": [
    "Q2. Where does an inheritance search look for an attribute?"
   ]
  },
  {
   "cell_type": "markdown",
   "id": "c84e87ca",
   "metadata": {},
   "source": [
    "The inheritence search first look for the attribute in the class itself.If not found then it looks it in its immediate parent class\n",
    ", if not found then it search its parent's parent and so on until the attribute is found."
   ]
  },
  {
   "cell_type": "markdown",
   "id": "475ca670",
   "metadata": {},
   "source": [
    "Q3. How do you distinguish between a class object and an instance object?"
   ]
  },
  {
   "cell_type": "markdown",
   "id": "8c6d8044",
   "metadata": {},
   "source": [
    "A class is a blueprint for creating objects (a particular data structure), providing initial values for state (member variables or attributes), and implementations of behavior (member functions or methods). The user-defined objects are created using the class keyword. An instance is an individual object of a certain class. For example, if Animal is a class then animal1, animal2, etc are instances of the class."
   ]
  },
  {
   "cell_type": "code",
   "execution_count": 4,
   "id": "6d084755",
   "metadata": {},
   "outputs": [],
   "source": [
    "class Animal:\n",
    "    def __init__(self, name, typ):\n",
    "        self.name = name \n",
    "        self.typ = typ\n",
    "    def Name(self):\n",
    "        return f'I am a {self.name}'\n",
    "    \n",
    "    def Type(self):\n",
    "        return f'I am a {self.typ} animal'"
   ]
  },
  {
   "cell_type": "code",
   "execution_count": 5,
   "id": "94082aed",
   "metadata": {},
   "outputs": [],
   "source": [
    "animal1 = Animal('Dog', 'Domestic')\n",
    "animal2 = Animal('Lion', 'Wild')"
   ]
  },
  {
   "cell_type": "markdown",
   "id": "c5318403",
   "metadata": {},
   "source": [
    "Q4. What makes the first argument in a class’s method function special?"
   ]
  },
  {
   "cell_type": "markdown",
   "id": "4dccc827",
   "metadata": {},
   "source": [
    "The self keyword is used to represent an instance of the class. It is passed as the first argument to the method function and refers to the instance of the class that the method is called on."
   ]
  },
  {
   "cell_type": "markdown",
   "id": "8b0d326e",
   "metadata": {},
   "source": [
    "Q5. What is the purpose of the __init__ method?"
   ]
  },
  {
   "cell_type": "markdown",
   "id": "4767ffe5",
   "metadata": {},
   "source": [
    "The __init__() method is called constructors. It runs as soon as an object of a class is instantiated. The method is useful to do any initialization you want to do with your object."
   ]
  },
  {
   "cell_type": "markdown",
   "id": "67486439",
   "metadata": {},
   "source": [
    "Q6. What is the process for creating a class instance?"
   ]
  },
  {
   "cell_type": "markdown",
   "id": "b364ba56",
   "metadata": {},
   "source": [
    "First we create a class with some methods. Once you have defined the class, you can create an instance of it by calling the class name followed by parentheses.Here Animal is a class object and animal1 , animal2 is instance of class object."
   ]
  },
  {
   "cell_type": "code",
   "execution_count": 6,
   "id": "d50c9507",
   "metadata": {},
   "outputs": [],
   "source": [
    "class Animal:\n",
    "    def __init__(self, name, typ):\n",
    "        self.name = name \n",
    "        self.typ = typ\n",
    "    def Name(self):\n",
    "        return f'I am a {self.name}'\n",
    "    \n",
    "    def Type(self):\n",
    "        return f'I am a {self.typ} animal'"
   ]
  },
  {
   "cell_type": "code",
   "execution_count": 7,
   "id": "82e7280f",
   "metadata": {},
   "outputs": [],
   "source": [
    "animal1 = Animal('Dog', 'Domestic')\n",
    "animal2 = Animal('Lion', 'Wild')"
   ]
  },
  {
   "cell_type": "markdown",
   "id": "74e828b9",
   "metadata": {},
   "source": [
    "Q7. What is the process for creating a class?"
   ]
  },
  {
   "cell_type": "markdown",
   "id": "6e62021b",
   "metadata": {},
   "source": [
    "To create a class in Python, you use the keyword class followed by the name of the class. Below is a class followed by its name\n",
    "Animal."
   ]
  },
  {
   "cell_type": "markdown",
   "id": "c578983a",
   "metadata": {},
   "source": [
    "Q8. How would you define the superclasses of a class?"
   ]
  },
  {
   "cell_type": "markdown",
   "id": "e13526fc",
   "metadata": {},
   "source": [
    "Here Animal is a parent class of Dog class."
   ]
  },
  {
   "cell_type": "code",
   "execution_count": 15,
   "id": "0f7c26cf",
   "metadata": {},
   "outputs": [],
   "source": [
    "class Animal:\n",
    "    def __init__(self, name):\n",
    "        self.name = name \n",
    "    def Name(self):\n",
    "        print(f'I am a {self.name}')\n",
    "    \n",
    "class Dog(Animal):\n",
    "    def __init__(self, name, breed, bite_force):\n",
    "        self.name = name\n",
    "        self.breed = breed\n",
    "        self.bite_force = bite_force\n",
    "    def Breed(self):\n",
    "        print(f\"I am a {self.breed}\")\n",
    "    def Bite(self):\n",
    "        print(f\"I have {self.bite_force} PSI of bite force\")"
   ]
  },
  {
   "cell_type": "code",
   "execution_count": 16,
   "id": "6c1c5367",
   "metadata": {},
   "outputs": [],
   "source": [
    "animal3 = Animal('Dog')\n",
    "animal4 = Dog('Dog', 'Rottweiller', 400)"
   ]
  },
  {
   "cell_type": "code",
   "execution_count": 17,
   "id": "51d42de7",
   "metadata": {},
   "outputs": [
    {
     "name": "stdout",
     "output_type": "stream",
     "text": [
      "I am a Dog\n"
     ]
    }
   ],
   "source": [
    "animal4.Name()"
   ]
  },
  {
   "cell_type": "code",
   "execution_count": null,
   "id": "bb91b314",
   "metadata": {},
   "outputs": [],
   "source": []
  }
 ],
 "metadata": {
  "kernelspec": {
   "display_name": "Python 3 (ipykernel)",
   "language": "python",
   "name": "python3"
  },
  "language_info": {
   "codemirror_mode": {
    "name": "ipython",
    "version": 3
   },
   "file_extension": ".py",
   "mimetype": "text/x-python",
   "name": "python",
   "nbconvert_exporter": "python",
   "pygments_lexer": "ipython3",
   "version": "3.9.12"
  }
 },
 "nbformat": 4,
 "nbformat_minor": 5
}
