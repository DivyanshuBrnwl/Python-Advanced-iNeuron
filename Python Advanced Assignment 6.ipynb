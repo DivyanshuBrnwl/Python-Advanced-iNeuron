{
 "cells": [
  {
   "cell_type": "markdown",
   "id": "1a08eca8",
   "metadata": {},
   "source": [
    "Q1. Describe three applications for exception processing."
   ]
  },
  {
   "cell_type": "markdown",
   "id": "85796d2d",
   "metadata": {},
   "source": [
    "The three application for exception processing are as follows:-\n",
    "1. Error-Handling:- Exception processing is used to handle errors that occurs during the excecution of the program. By using try\n",
    "    except block, you can catch and handle exception in a way that allow your program to run without crashing.\n",
    "    \n",
    "2. Debugging:- Exception processing can also be used for debugging purposes. When an Exception is raised, Python prints a \n",
    "    trackback, that shows a line of code where exception is occured. This can be useful for identifing and fixing the bugs in \n",
    "    your code.\n",
    "    \n",
    "3. User input validation:- Exception processing is useful in validating input of the user. For example, if you are writing a program that asks the user to enter a number, you can use exception processing to catch and handle cases where the user enters an invalid value."
   ]
  },
  {
   "cell_type": "markdown",
   "id": "332aafa4",
   "metadata": {},
   "source": [
    "Q2. What happens if you don't do something extra to treat an exception?"
   ]
  },
  {
   "cell_type": "markdown",
   "id": "60c7a83f",
   "metadata": {},
   "source": [
    "If we don't treat an exception the program will terminate abruptly and the code past the line that caused the exception will not be executed."
   ]
  },
  {
   "cell_type": "markdown",
   "id": "cb767646",
   "metadata": {},
   "source": [
    "Q3. What are your options for recovering from an exception in your script?"
   ]
  },
  {
   "cell_type": "markdown",
   "id": "dca95b23",
   "metadata": {},
   "source": [
    "1. Handle an Exception:- You can use try and except block to catch and handle exception in my code. By handling exception I can \n",
    "prevent my program from crashing and take appropriate action to recover that exception.\n",
    "\n",
    "2. Retry the operation:- If an exception occur while performing the exception, we should retry the operation a short delay.\n",
    "This can be helpful if the error caused due to some temporary issue.\n",
    "\n",
    "3. Log the error :- You can log the error to a file, so that you can look to it later and take appropriate action.\n",
    "\n",
    "4. Raise a new Exception :- In some cases it may be appropriate to raise new exception after catching a existing exception. This \n",
    "can be useful if we need to provide more information about the error or if you need to handle error differently based on its type.\n"
   ]
  },
  {
   "cell_type": "markdown",
   "id": "043ad778",
   "metadata": {},
   "source": [
    "Q4. Describe two methods for triggering exceptions in your script."
   ]
  },
  {
   "cell_type": "markdown",
   "id": "926c9ec8",
   "metadata": {},
   "source": [
    "The Two methods for triggering exceptions in your script are :- \n",
    "\n",
    "Try: This method catches the exceptions raised by the program. The try block is used to enclose the code that may raise an exception, while the except block is used to handle the exception that may occur.\n",
    "\n",
    "Raise: This method triggers an exception manually using custom exceptions. The raise keyword allows you to throw an exception at any time."
   ]
  },
  {
   "cell_type": "code",
   "execution_count": 1,
   "id": "f51d56fe",
   "metadata": {},
   "outputs": [
    {
     "data": {
      "text/plain": [
       "<function __main__.goodbye()>"
      ]
     },
     "execution_count": 1,
     "metadata": {},
     "output_type": "execute_result"
    }
   ],
   "source": [
    "import atexit\n",
    "\n",
    "def goodbye():\n",
    "    print(\"You are now leaving the program.\")\n",
    "\n",
    "atexit.register(goodbye)"
   ]
  },
  {
   "cell_type": "markdown",
   "id": "93ca7047",
   "metadata": {},
   "source": [
    "Q5. Identify two methods for specifying actions to be executed at termination time, regardless of\n",
    "whether or not an exception exists."
   ]
  },
  {
   "cell_type": "markdown",
   "id": "b02495de",
   "metadata": {},
   "source": [
    "Two methods for specifying actions to be executed at termination time in Python, regardless of whether or not an exception exists, are:\n",
    "\n",
    "1. Using a finally block: This block always executes after the try and except blocks, even if an exception is raised or the program is terminated abruptly.\n",
    "2. Using a context manager: This is an object that defines the __enter__ and __exit__ methods that are automatically called at the start and end of a with statement. The __exit__ method can handle any cleanup or finalization tasks."
   ]
  },
  {
   "cell_type": "code",
   "execution_count": null,
   "id": "af52d51c",
   "metadata": {},
   "outputs": [],
   "source": []
  }
 ],
 "metadata": {
  "kernelspec": {
   "display_name": "Python 3 (ipykernel)",
   "language": "python",
   "name": "python3"
  },
  "language_info": {
   "codemirror_mode": {
    "name": "ipython",
    "version": 3
   },
   "file_extension": ".py",
   "mimetype": "text/x-python",
   "name": "python",
   "nbconvert_exporter": "python",
   "pygments_lexer": "ipython3",
   "version": "3.9.12"
  }
 },
 "nbformat": 4,
 "nbformat_minor": 5
}
