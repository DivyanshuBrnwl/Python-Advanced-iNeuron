{
 "cells": [
  {
   "cell_type": "markdown",
   "id": "eeae156a",
   "metadata": {},
   "source": [
    "1. What is the concept of an abstract superclass?"
   ]
  },
  {
   "cell_type": "markdown",
   "id": "a2f433c5",
   "metadata": {},
   "source": [
    "An abstract superclass is a class that cannot be instantiated on its own. Instead, it is meant to be subclassed by other classes that will provide concrete implementations of its methods. Abstract super classes are used to define a common interface for a group of related classes"
   ]
  },
  {
   "cell_type": "markdown",
   "id": "25b2335a",
   "metadata": {},
   "source": [
    "2. What happens when a class statement&#39;s top level contains a basic assignment statement?"
   ]
  },
  {
   "cell_type": "markdown",
   "id": "01cb2591",
   "metadata": {},
   "source": [
    "When a class statement's top level contains a basic assignment statement, it is treated as a class attribute and it is shared by all instances created by the class.\n",
    "\n"
   ]
  },
  {
   "cell_type": "markdown",
   "id": "5f45ac31",
   "metadata": {},
   "source": [
    "3. Why does a class need to manually call a superclass&#39;s __init__ method?"
   ]
  },
  {
   "cell_type": "markdown",
   "id": "6e3d966d",
   "metadata": {},
   "source": [
    "When a subclass is derived from a superclass, the subclass inherits all of the superclass’s attributes and methods. However, if the subclass needs to initialize additional attributes or methods, it must do so explicitly. This is done by calling the superclass’s init() method from the subclass’s init() method"
   ]
  },
  {
   "cell_type": "code",
   "execution_count": 1,
   "id": "23eaec94",
   "metadata": {},
   "outputs": [],
   "source": [
    "class Rectangle:\n",
    "    def __init__(self, length, width):\n",
    "        self.length = length\n",
    "        self.width = width\n",
    "\n",
    "class Square(Rectangle):\n",
    "    def __init__(self, length, width):\n",
    "        super().__init__(length, width)\n",
    "        \n",
    "    def area(self):\n",
    "        return self.length * self.width\n",
    "        \n",
    "class Cube(Rectangle):\n",
    "    def __init__(self, length, width, height):\n",
    "        super().__init__(length, width)\n",
    "        self.height = height \n",
    "        \n",
    "    def volume(self):\n",
    "        return self.length * self.width * self.height"
   ]
  },
  {
   "cell_type": "markdown",
   "id": "8c5a780b",
   "metadata": {},
   "source": [
    "4. How can you augment, instead of completely replacing, an inherited method?"
   ]
  },
  {
   "cell_type": "markdown",
   "id": "0d038172",
   "metadata": {},
   "source": [
    "To augment the inherited method in python, we can use super() method allow you to call a method in the parent class and add some new functionality to it. You can use the super() method to call the parent class’s method and then add some new functionality to it. This way, you can augment the inherited method instead of completely replacing it"
   ]
  },
  {
   "cell_type": "markdown",
   "id": "5ef48ea9",
   "metadata": {},
   "source": [
    "5. How is the local scope of a class different from that of a function?"
   ]
  },
  {
   "cell_type": "markdown",
   "id": "f79acb0e",
   "metadata": {},
   "source": [
    "In Python, when you define a class, you create a new local Python scope. The names assigned at the top level of the class live in this local scope. The names that you assigned inside a class statement don’t clash with names elsewhere.\n",
    "\n",
    "The scope of names defined in a class block is limited to the class block; it does not extend to the code blocks of methods – this includes comprehensions and generator expressions since they are implemented using a function scope"
   ]
  },
  {
   "cell_type": "code",
   "execution_count": null,
   "id": "2fcfbe25",
   "metadata": {},
   "outputs": [],
   "source": []
  }
 ],
 "metadata": {
  "kernelspec": {
   "display_name": "Python 3 (ipykernel)",
   "language": "python",
   "name": "python3"
  },
  "language_info": {
   "codemirror_mode": {
    "name": "ipython",
    "version": 3
   },
   "file_extension": ".py",
   "mimetype": "text/x-python",
   "name": "python",
   "nbconvert_exporter": "python",
   "pygments_lexer": "ipython3",
   "version": "3.9.12"
  }
 },
 "nbformat": 4,
 "nbformat_minor": 5
}
