{
 "cells": [
  {
   "cell_type": "markdown",
   "id": "cce82a54",
   "metadata": {},
   "source": [
    "1. Compare and contrast the float and Decimal classes&#39; benefits and drawbacks."
   ]
  },
  {
   "cell_type": "code",
   "execution_count": 1,
   "id": "cb9beedd",
   "metadata": {},
   "outputs": [
    {
     "name": "stdout",
     "output_type": "stream",
     "text": [
      "0.30000000000000004\n"
     ]
    }
   ],
   "source": [
    "float_num1 = 0.1\n",
    "float_num2 = 0.2\n",
    "\n",
    "result = 0.2 + 0.1\n",
    "print(result)"
   ]
  },
  {
   "cell_type": "code",
   "execution_count": 4,
   "id": "2ce53900",
   "metadata": {},
   "outputs": [
    {
     "name": "stdout",
     "output_type": "stream",
     "text": [
      "0.3\n"
     ]
    }
   ],
   "source": [
    "from decimal import Decimal, getcontext\n",
    "\n",
    "getcontext().prec = 4\n",
    "\n",
    "decimal_num1 = Decimal(\"0.1\")\n",
    "decimal_num2 = Decimal(\"0.2\")\n",
    "\n",
    "result_decimal = decimal_num1 + decimal_num2\n",
    "\n",
    "print(result_decimal)"
   ]
  },
  {
   "cell_type": "markdown",
   "id": "b7b4d00f",
   "metadata": {},
   "source": [
    "float\n",
    "\n",
    "BENIFIT\n",
    "1. float is generally faster than 'Decimal' because it is implemented using hardware support for floating point number.\n",
    "2. It requires less memory.\n",
    "\n",
    "LIMITATION\n",
    "\n",
    "1. float has limited precision.\n",
    "2. loss of precision in decimal fraction\n",
    "\n",
    "\n",
    "decimal\n",
    "\n",
    "BENEFIT\n",
    "1. It provide control over rounding.\n",
    "2. Decimal provides arbitrary precision arithmetic, allowing for accurate representation.\n",
    "\n",
    "LIMITATION\n",
    "1. its performance is generally slower than float.\n",
    "2. it consumes more memory when compared to float."
   ]
  },
  {
   "cell_type": "markdown",
   "id": "a9ba5711",
   "metadata": {},
   "source": [
    "2. Decimal('1.200') and Decimal('1.2') are two objects to consider. In what sense are these the same object? Are these just two ways of representing the exact same value, or do they correspond to different internal states?"
   ]
  },
  {
   "cell_type": "markdown",
   "id": "b8aab498",
   "metadata": {},
   "source": [
    "Both values are same but internal representation at storage Is different. Precsion differs, Decimal('1.200') gives internally 1.200 and Decimal('1.2') gives 1.2."
   ]
  },
  {
   "cell_type": "code",
   "execution_count": null,
   "id": "86f75392",
   "metadata": {},
   "outputs": [],
   "source": [
    "3. What happens if the equality of Decimal('1.200') and Decimal('1.2') is checked?"
   ]
  },
  {
   "cell_type": "code",
   "execution_count": 5,
   "id": "edfe9df2",
   "metadata": {},
   "outputs": [
    {
     "name": "stdout",
     "output_type": "stream",
     "text": [
      "True\n"
     ]
    }
   ],
   "source": [
    "from decimal import Decimal\n",
    "\n",
    "decimal1 = Decimal('1.200')\n",
    "decimal2 = Decimal('1.2')\n",
    "\n",
    "print(decimal1 == decimal2) "
   ]
  },
  {
   "cell_type": "code",
   "execution_count": null,
   "id": "cfa00f52",
   "metadata": {},
   "outputs": [],
   "source": [
    "4. Why is it preferable to start a Decimal object with a string rather than a floating-point value?"
   ]
  },
  {
   "cell_type": "code",
   "execution_count": 7,
   "id": "29360555",
   "metadata": {},
   "outputs": [
    {
     "name": "stdout",
     "output_type": "stream",
     "text": [
      "0.1000000000000000055511151231257827021181583404541015625\n",
      "0.1\n"
     ]
    }
   ],
   "source": [
    "decimal_flaot = Decimal(0.1)\n",
    "decimal_str = Decimal('0.1')\n",
    "print(decimal_flaot)\n",
    "print(decimal_str)"
   ]
  },
  {
   "cell_type": "markdown",
   "id": "fc3f7809",
   "metadata": {},
   "source": [
    "1. The string representation avoids the imprecision introduced by representing the number as a floating-point literal.\n",
    "2. The string representation of a number is not affected by platform-specific floating-point representations. "
   ]
  },
  {
   "cell_type": "markdown",
   "id": "e2b7a989",
   "metadata": {},
   "source": [
    "5. In an arithmetic phrase, how simple is it to combine Decimal objects with integers?"
   ]
  },
  {
   "cell_type": "code",
   "execution_count": 8,
   "id": "fe950801",
   "metadata": {},
   "outputs": [],
   "source": [
    "decimal_flaot = Decimal(0.1)\n",
    "decimal_str = Decimal('0.1')"
   ]
  },
  {
   "cell_type": "code",
   "execution_count": 9,
   "id": "40b3bc60",
   "metadata": {},
   "outputs": [
    {
     "data": {
      "text/plain": [
       "Decimal('2.1')"
      ]
     },
     "execution_count": 9,
     "metadata": {},
     "output_type": "execute_result"
    }
   ],
   "source": [
    "Decimal('0.1') + 2"
   ]
  },
  {
   "cell_type": "code",
   "execution_count": null,
   "id": "92718df9",
   "metadata": {},
   "outputs": [],
   "source": [
    "6. Can Decimal objects and floating-point values be combined easily?"
   ]
  },
  {
   "cell_type": "code",
   "execution_count": 13,
   "id": "58ae0532",
   "metadata": {},
   "outputs": [
    {
     "ename": "TypeError",
     "evalue": "unsupported operand type(s) for +: 'decimal.Decimal' and 'float'",
     "output_type": "error",
     "traceback": [
      "\u001b[1;31m---------------------------------------------------------------------------\u001b[0m",
      "\u001b[1;31mTypeError\u001b[0m                                 Traceback (most recent call last)",
      "Cell \u001b[1;32mIn[13], line 1\u001b[0m\n\u001b[1;32m----> 1\u001b[0m \u001b[43mDecimal\u001b[49m\u001b[43m(\u001b[49m\u001b[38;5;241;43m0.1\u001b[39;49m\u001b[43m)\u001b[49m\u001b[43m \u001b[49m\u001b[38;5;241;43m+\u001b[39;49m\u001b[43m \u001b[49m\u001b[38;5;28;43mfloat\u001b[39;49m\u001b[43m(\u001b[49m\u001b[38;5;241;43m2.5\u001b[39;49m\u001b[43m)\u001b[49m\n",
      "\u001b[1;31mTypeError\u001b[0m: unsupported operand type(s) for +: 'decimal.Decimal' and 'float'"
     ]
    }
   ],
   "source": [
    "Decimal(0.1) + float(2.5)"
   ]
  },
  {
   "cell_type": "code",
   "execution_count": 14,
   "id": "f170017d",
   "metadata": {},
   "outputs": [
    {
     "ename": "TypeError",
     "evalue": "unsupported operand type(s) for *: 'decimal.Decimal' and 'float'",
     "output_type": "error",
     "traceback": [
      "\u001b[1;31m---------------------------------------------------------------------------\u001b[0m",
      "\u001b[1;31mTypeError\u001b[0m                                 Traceback (most recent call last)",
      "Cell \u001b[1;32mIn[14], line 1\u001b[0m\n\u001b[1;32m----> 1\u001b[0m \u001b[43mDecimal\u001b[49m\u001b[43m(\u001b[49m\u001b[38;5;241;43m0.1\u001b[39;49m\u001b[43m)\u001b[49m\u001b[43m \u001b[49m\u001b[38;5;241;43m*\u001b[39;49m\u001b[43m \u001b[49m\u001b[38;5;28;43mfloat\u001b[39;49m\u001b[43m(\u001b[49m\u001b[38;5;241;43m2.5\u001b[39;49m\u001b[43m)\u001b[49m\n",
      "\u001b[1;31mTypeError\u001b[0m: unsupported operand type(s) for *: 'decimal.Decimal' and 'float'"
     ]
    }
   ],
   "source": [
    "Decimal(0.1) * float(2.5)"
   ]
  },
  {
   "cell_type": "markdown",
   "id": "f7f0f07f",
   "metadata": {},
   "source": [
    "Arithmetic operfations like Adding,subtracting or multiplying a Decimal object by a floating-point value generates an error.\n",
    "\n",
    "To do these operations, the floating point has to be converted to a Decimal."
   ]
  },
  {
   "cell_type": "markdown",
   "id": "9828aec8",
   "metadata": {},
   "source": [
    "7. Using the Fraction class but not the Decimal class, give an example of a quantity that can be\n",
    "expressed with absolute precision."
   ]
  },
  {
   "cell_type": "markdown",
   "id": "1361e3f3",
   "metadata": {},
   "source": [
    " Value of 0.5 will be represented as ½."
   ]
  },
  {
   "cell_type": "markdown",
   "id": "8d5c2e08",
   "metadata": {},
   "source": [
    "8. Describe a quantity that can be accurately expressed by the Decimal or Fraction classes but not by\n",
    "a floating-point value."
   ]
  },
  {
   "cell_type": "code",
   "execution_count": 17,
   "id": "1202fc6d",
   "metadata": {},
   "outputs": [
    {
     "name": "stdout",
     "output_type": "stream",
     "text": [
      "0.1\n",
      "1/10\n",
      "0.1\n"
     ]
    }
   ],
   "source": [
    "from decimal import Decimal\n",
    "from fractions import Fraction\n",
    "\n",
    "# Using Decimal\n",
    "decimal_value = Decimal('0.1')\n",
    "print(decimal_value)  # Decimal('0.1')\n",
    "\n",
    "# Using Fraction\n",
    "fraction_value = Fraction(1, 10)\n",
    "print(fraction_value)  # Fraction(1, 10)\n",
    "\n",
    "# Using floating-point\n",
    "float_value = 0.1\n",
    "print(float_value)  # 0.1 (approximate representation)\n"
   ]
  },
  {
   "cell_type": "code",
   "execution_count": null,
   "id": "76167b47",
   "metadata": {},
   "outputs": [],
   "source": [
    "Q9.Consider the following two fraction objects: Fraction(1, 2) and Fraction(1, 2). (5, 10). Is the internal\n",
    "state of these two objects the same? Why do you think that is?"
   ]
  },
  {
   "cell_type": "code",
   "execution_count": 19,
   "id": "6f7a34ad",
   "metadata": {},
   "outputs": [
    {
     "name": "stdout",
     "output_type": "stream",
     "text": [
      "True\n"
     ]
    }
   ],
   "source": [
    "fraction1 = Fraction(1, 2)\n",
    "fraction2 = Fraction(5, 10)\n",
    "print(fraction1 == fraction2)"
   ]
  },
  {
   "cell_type": "markdown",
   "id": "943a6d0c",
   "metadata": {},
   "source": [
    "The Fraction class normalizes fractions during instantiation, so even if you provide different numerators and denominators that represent the same rational number, the internal representation of the Fraction objects might not be identical.\n",
    "\n"
   ]
  },
  {
   "cell_type": "code",
   "execution_count": null,
   "id": "c6d32a1b",
   "metadata": {},
   "outputs": [],
   "source": [
    "Q10. How do the Fraction class and the integer type (int) relate to each other? Containment or\n",
    "inheritance?"
   ]
  },
  {
   "cell_type": "markdown",
   "id": "6b477b6e",
   "metadata": {},
   "source": [
    "Fraction class and integer type(int) are related in form of a container.It contains two ints, one the numerator and the other the denominator"
   ]
  },
  {
   "cell_type": "code",
   "execution_count": null,
   "id": "58332148",
   "metadata": {},
   "outputs": [],
   "source": []
  }
 ],
 "metadata": {
  "kernelspec": {
   "display_name": "Python 3 (ipykernel)",
   "language": "python",
   "name": "python3"
  },
  "language_info": {
   "codemirror_mode": {
    "name": "ipython",
    "version": 3
   },
   "file_extension": ".py",
   "mimetype": "text/x-python",
   "name": "python",
   "nbconvert_exporter": "python",
   "pygments_lexer": "ipython3",
   "version": "3.9.12"
  }
 },
 "nbformat": 4,
 "nbformat_minor": 5
}
