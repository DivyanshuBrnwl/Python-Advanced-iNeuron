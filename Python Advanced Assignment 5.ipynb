{
 "cells": [
  {
   "cell_type": "markdown",
   "id": "d3fcdd07",
   "metadata": {},
   "source": [
    "Q1. What is the meaning of multiple inheritance?"
   ]
  },
  {
   "cell_type": "code",
   "execution_count": 12,
   "id": "ab474038",
   "metadata": {},
   "outputs": [],
   "source": [
    "class Animal:\n",
    "   \n",
    "    def Animal(self):\n",
    "        print(f\"I am a animal\")\n",
    "    \n",
    "    def Bird(self):\n",
    "        print(f\"I am a bird\")\n",
    "        \n",
    "    def Reptile(self):\n",
    "        print(f\"I am a reptile\")\n",
    "        \n",
    "class Mammal:\n",
    "    \n",
    "    def Reproduce(self):\n",
    "        print(f\"I reproduce by giving Birth\")\n",
    "        \n",
    "class Human(Animal, Mammal):\n",
    "    def __init__(self, Name, Age, Profession):\n",
    "        self.name = Name\n",
    "        self.age = Age\n",
    "        self.profession = Profession\n",
    "        \n",
    "    def Intro(self):\n",
    "        print(f\"My name is {self.name}, age is {self.age} and I am a {self.profession} \")"
   ]
  },
  {
   "cell_type": "code",
   "execution_count": 13,
   "id": "b358b57b",
   "metadata": {},
   "outputs": [],
   "source": [
    "human1 = Human('Divyanshu', 21, 'Data Enginner')"
   ]
  },
  {
   "cell_type": "code",
   "execution_count": 14,
   "id": "bd655b8f",
   "metadata": {},
   "outputs": [
    {
     "name": "stdout",
     "output_type": "stream",
     "text": [
      "My name is Divyanshu, age is 21 and I am a Data Enginner \n"
     ]
    }
   ],
   "source": [
    "human1.Intro()"
   ]
  },
  {
   "cell_type": "code",
   "execution_count": 15,
   "id": "375d56d8",
   "metadata": {},
   "outputs": [
    {
     "name": "stdout",
     "output_type": "stream",
     "text": [
      "I reproduce by giving Birth\n"
     ]
    }
   ],
   "source": [
    "human1.Reproduce()"
   ]
  },
  {
   "cell_type": "markdown",
   "id": "33b79240",
   "metadata": {},
   "source": [
    " The property of acquiring all the properties and behaviors of the parent object by an object is termed as Python inheritance.\n",
    " Multiple inheritance is the ability of a class to inherit from more than one parent class.  Multiple inheritance allows a derived class to inherit properties (attributes and methods) from more than one parent classes."
   ]
  },
  {
   "cell_type": "markdown",
   "id": "b7bf76a4",
   "metadata": {},
   "source": [
    "Q2. What is the concept of delegation?"
   ]
  },
  {
   "cell_type": "markdown",
   "id": "76379f3d",
   "metadata": {},
   "source": [
    "delegation refers to the process of passing a method call from one object to another object that performs the actual behavior of the method. Delegation is a design pattern that allows objects to collaborate with each other in a flexible and dynamic way1. It is a way of making composition as powerful for reuse as inheritance2. Delegation is used when we want to use the functionality of an existing class in our new class without inheriting from it"
   ]
  },
  {
   "cell_type": "code",
   "execution_count": 16,
   "id": "ef3f7c40",
   "metadata": {},
   "outputs": [
    {
     "name": "stdout",
     "output_type": "stream",
     "text": [
      "Delegate.foo() called\n"
     ]
    }
   ],
   "source": [
    "class Delegator:\n",
    "    def __init__(self, delegate):\n",
    "        self.delegate = delegate\n",
    "\n",
    "    def __getattr__(self, name):\n",
    "        return getattr(self.delegate, name)\n",
    "\n",
    "class Delegate:\n",
    "    def foo(self):\n",
    "        print(\"Delegate.foo() called\")\n",
    "\n",
    "    def __getattr__(self, name):\n",
    "        return getattr(self, name)\n",
    "\n",
    "d = Delegate()\n",
    "delegator = Delegator(d)\n",
    "delegator.foo() # prints \"Delegate.foo() called\"\n"
   ]
  },
  {
   "cell_type": "markdown",
   "id": "fcea898b",
   "metadata": {},
   "source": [
    "Q3. What is the concept of composition?"
   ]
  },
  {
   "cell_type": "markdown",
   "id": "dac0101a",
   "metadata": {},
   "source": [
    "In Python, composition is a way of combining objects or classes such that one object or class contains another object or class. In other words, one class is composed of one or more instances of other classes. Composition is used to create complex objects by combining simpler ones."
   ]
  },
  {
   "cell_type": "markdown",
   "id": "024500c9",
   "metadata": {},
   "source": [
    "Q4. What are bound methods and how do we use them?"
   ]
  },
  {
   "cell_type": "markdown",
   "id": "a819c2e5",
   "metadata": {},
   "source": [
    "In Python, a bound method is a method that is dependent on the instance of the class as the first argument. It passes the instance as the first argument which is used to access the variables and functions"
   ]
  },
  {
   "cell_type": "code",
   "execution_count": 17,
   "id": "61438a78",
   "metadata": {},
   "outputs": [
    {
     "name": "stdout",
     "output_type": "stream",
     "text": [
      "42\n"
     ]
    }
   ],
   "source": [
    "class MyClass:\n",
    "    def __init__(self):\n",
    "        self.x = 42\n",
    "\n",
    "    def my_method(self):\n",
    "        print(self.x)\n",
    "\n",
    "obj = MyClass()\n",
    "obj.my_method()\n"
   ]
  },
  {
   "cell_type": "markdown",
   "id": "5096e6c9",
   "metadata": {},
   "source": [
    "Q5. What is the purpose of pseudoprivate attributes?"
   ]
  },
  {
   "cell_type": "markdown",
   "id": "7bf6eff9",
   "metadata": {},
   "source": [
    "In Python, pseudoprivate attributes are attributes that are intended to be used within a single class. They are created by prefixing the attribute name with two underscores. The purpose of pseudoprivate attributes is to avoid naming conflicts with other attributes"
   ]
  },
  {
   "cell_type": "code",
   "execution_count": null,
   "id": "2d7518e6",
   "metadata": {},
   "outputs": [],
   "source": []
  }
 ],
 "metadata": {
  "kernelspec": {
   "display_name": "Python 3 (ipykernel)",
   "language": "python",
   "name": "python3"
  },
  "language_info": {
   "codemirror_mode": {
    "name": "ipython",
    "version": 3
   },
   "file_extension": ".py",
   "mimetype": "text/x-python",
   "name": "python",
   "nbconvert_exporter": "python",
   "pygments_lexer": "ipython3",
   "version": "3.9.12"
  }
 },
 "nbformat": 4,
 "nbformat_minor": 5
}
