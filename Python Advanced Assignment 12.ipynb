{
 "cells": [
  {
   "cell_type": "markdown",
   "id": "6f55a5b1",
   "metadata": {},
   "source": [
    "Q1. Does assigning a value to a string&#39;s indexed character violate Python&#39;s string immutability?"
   ]
  },
  {
   "cell_type": "code",
   "execution_count": 11,
   "id": "de247f65",
   "metadata": {},
   "outputs": [],
   "source": [
    "a = 'Divyanshu'"
   ]
  },
  {
   "cell_type": "markdown",
   "id": "621465d0",
   "metadata": {},
   "source": [
    "Python strings are Immutable, therefore we cannot change content of string using [] operator. If we try to modify the string with [] then it will return a error i.e. TypeError"
   ]
  },
  {
   "cell_type": "code",
   "execution_count": 12,
   "id": "0379684e",
   "metadata": {},
   "outputs": [
    {
     "ename": "TypeError",
     "evalue": "'str' object does not support item assignment",
     "output_type": "error",
     "traceback": [
      "\u001b[1;31m---------------------------------------------------------------------------\u001b[0m",
      "\u001b[1;31mTypeError\u001b[0m                                 Traceback (most recent call last)",
      "Cell \u001b[1;32mIn[12], line 1\u001b[0m\n\u001b[1;32m----> 1\u001b[0m a[\u001b[38;5;241m0\u001b[39m]\u001b[38;5;241m=\u001b[39m\u001b[38;5;124m'\u001b[39m\u001b[38;5;124mP\u001b[39m\u001b[38;5;124m'\u001b[39m\n",
      "\u001b[1;31mTypeError\u001b[0m: 'str' object does not support item assignment"
     ]
    }
   ],
   "source": [
    "a[0]='P'"
   ]
  },
  {
   "cell_type": "markdown",
   "id": "437782aa",
   "metadata": {},
   "source": [
    "Q2. Does using the += operator to concatenate strings violate Python&#39;s string immutability? Why or\n",
    "why not?"
   ]
  },
  {
   "cell_type": "code",
   "execution_count": 5,
   "id": "89a6fc01",
   "metadata": {},
   "outputs": [],
   "source": [
    "b = 5\n",
    "b+=4"
   ]
  },
  {
   "cell_type": "code",
   "execution_count": 6,
   "id": "2a4d962c",
   "metadata": {},
   "outputs": [
    {
     "data": {
      "text/plain": [
       "9"
      ]
     },
     "execution_count": 6,
     "metadata": {},
     "output_type": "execute_result"
    }
   ],
   "source": [
    "b"
   ]
  },
  {
   "cell_type": "code",
   "execution_count": 12,
   "id": "8bb8283d",
   "metadata": {},
   "outputs": [
    {
     "name": "stdout",
     "output_type": "stream",
     "text": [
      "2727154724016\n"
     ]
    }
   ],
   "source": [
    "a = 'Divyanshu'\n",
    "print(id(a))"
   ]
  },
  {
   "cell_type": "code",
   "execution_count": 13,
   "id": "01aed4f7",
   "metadata": {},
   "outputs": [
    {
     "name": "stdout",
     "output_type": "stream",
     "text": [
      "2727155332400\n"
     ]
    }
   ],
   "source": [
    "a += ' Kumar'\n",
    "print(id(a))"
   ]
  },
  {
   "cell_type": "code",
   "execution_count": 1,
   "id": "9237e45e",
   "metadata": {},
   "outputs": [
    {
     "name": "stdout",
     "output_type": "stream",
     "text": [
      "False\n"
     ]
    }
   ],
   "source": [
    "original_string = \"Hello\"\n",
    "original_id = id(original_string)\n",
    "\n",
    "original_string += \" World\"\n",
    "new_id = id(original_string)\n",
    "\n",
    "print(original_id == new_id)  # False\n"
   ]
  },
  {
   "cell_type": "code",
   "execution_count": 2,
   "id": "27988094",
   "metadata": {},
   "outputs": [
    {
     "data": {
      "text/plain": [
       "2727125879728"
      ]
     },
     "execution_count": 2,
     "metadata": {},
     "output_type": "execute_result"
    }
   ],
   "source": [
    "original_id"
   ]
  },
  {
   "cell_type": "code",
   "execution_count": 3,
   "id": "d4469f41",
   "metadata": {},
   "outputs": [
    {
     "data": {
      "text/plain": [
       "2727125888944"
      ]
     },
     "execution_count": 3,
     "metadata": {},
     "output_type": "execute_result"
    }
   ],
   "source": [
    "new_id"
   ]
  },
  {
   "cell_type": "markdown",
   "id": "03b640a2",
   "metadata": {},
   "source": [
    "In this example, even though it seems like original_string is modified with the += operator, a new string is created, and the original string's identity (id()) is different from the new one.\n",
    "\n",
    "So, using += to concatenate strings doesn't violate string immutability; it adheres to the principle of immutability by creating a new string.\n"
   ]
  },
  {
   "cell_type": "markdown",
   "id": "e6e94472",
   "metadata": {},
   "source": [
    "Q3. In Python, how many different ways are there to index a character?"
   ]
  },
  {
   "cell_type": "markdown",
   "id": "123e262f",
   "metadata": {},
   "source": [
    "Positive Indexing"
   ]
  },
  {
   "cell_type": "code",
   "execution_count": 15,
   "id": "fbf259be",
   "metadata": {},
   "outputs": [],
   "source": [
    "n = \"Divyanshu Kumar\""
   ]
  },
  {
   "cell_type": "code",
   "execution_count": 24,
   "id": "efe89ff7",
   "metadata": {},
   "outputs": [
    {
     "name": "stdout",
     "output_type": "stream",
     "text": [
      "First Char - D\n",
      "Second Char - i\n"
     ]
    }
   ],
   "source": [
    "\n",
    "print(f'First Char - {n[0]}')\n",
    "print(f'Second Char - {n[1]}')"
   ]
  },
  {
   "cell_type": "markdown",
   "id": "448acc11",
   "metadata": {},
   "source": [
    "Negative Indexing"
   ]
  },
  {
   "cell_type": "code",
   "execution_count": 23,
   "id": "2ee0681e",
   "metadata": {},
   "outputs": [
    {
     "name": "stdout",
     "output_type": "stream",
     "text": [
      "Last Char - r\n",
      "Last Second Char - a\n"
     ]
    }
   ],
   "source": [
    "print(f'Last Char - {n[-1]}')\n",
    "print(f'Last Second Char - {n[-2]}')"
   ]
  },
  {
   "cell_type": "markdown",
   "id": "3eba55da",
   "metadata": {},
   "source": [
    "Slicing"
   ]
  },
  {
   "cell_type": "code",
   "execution_count": 25,
   "id": "50664fc7",
   "metadata": {},
   "outputs": [
    {
     "data": {
      "text/plain": [
       "'Divyanshu'"
      ]
     },
     "execution_count": 25,
     "metadata": {},
     "output_type": "execute_result"
    }
   ],
   "source": [
    "n[0:9]"
   ]
  },
  {
   "cell_type": "markdown",
   "id": "437d1e0d",
   "metadata": {},
   "source": [
    "Using a Loop"
   ]
  },
  {
   "cell_type": "code",
   "execution_count": 26,
   "id": "23419d5e",
   "metadata": {},
   "outputs": [
    {
     "name": "stdout",
     "output_type": "stream",
     "text": [
      "D\n",
      "i\n",
      "v\n",
      "y\n",
      "a\n",
      "n\n",
      "s\n",
      "h\n",
      "u\n",
      " \n",
      "K\n",
      "u\n",
      "m\n",
      "a\n",
      "r\n"
     ]
    }
   ],
   "source": [
    "for char in n:\n",
    "    print(char)"
   ]
  },
  {
   "cell_type": "markdown",
   "id": "e6a2ee94",
   "metadata": {},
   "source": [
    "Q4. What is the relationship between indexing and slicing?"
   ]
  },
  {
   "cell_type": "markdown",
   "id": "64c32332",
   "metadata": {},
   "source": [
    "Indexing and slicing are related concepts in Python and are often used together when working with sequences like strings, lists, or tuples. \n",
    "\n",
    "\n",
    "indexing is used to access individual elements, and slicing builds upon indexing by allowing you to create new sequences from a range of elements. Both concepts are fundamental to working with ordered collections in Python."
   ]
  },
  {
   "cell_type": "markdown",
   "id": "3ba40750",
   "metadata": {},
   "source": [
    "Q5. What is an indexed character&#39;s exact data type? What is the data form of a slicing-generated\n",
    "substring?"
   ]
  },
  {
   "cell_type": "code",
   "execution_count": 27,
   "id": "a64cd0a4",
   "metadata": {},
   "outputs": [
    {
     "name": "stdout",
     "output_type": "stream",
     "text": [
      "<class 'str'>\n"
     ]
    }
   ],
   "source": [
    "print(type(n[0]))"
   ]
  },
  {
   "cell_type": "code",
   "execution_count": 28,
   "id": "b66cdc1d",
   "metadata": {},
   "outputs": [
    {
     "name": "stdout",
     "output_type": "stream",
     "text": [
      "<class 'str'>\n"
     ]
    }
   ],
   "source": [
    "print(type(n[0:9]))"
   ]
  },
  {
   "cell_type": "markdown",
   "id": "e5fb29bc",
   "metadata": {},
   "source": [
    "Q6. What is the relationship between string and character &quot;types&quot; in Python?"
   ]
  },
  {
   "cell_type": "markdown",
   "id": "68cbe571",
   "metadata": {},
   "source": [
    "In Python, there is no distinct \"character\" type; instead, individual characters are represented as strings of length 1. \n",
    " Python treats characters as a subset of strings.\n",
    "This design choice simplifies the language, as strings can represent both individual characters and sequences of characters without the need for separate types."
   ]
  },
  {
   "cell_type": "markdown",
   "id": "459d0e64",
   "metadata": {},
   "source": [
    "Q7. Identify at least two operators and one method that allow you to combine one or more smaller\n",
    "strings to create a larger string.\n"
   ]
  },
  {
   "cell_type": "code",
   "execution_count": 36,
   "id": "d35a23f0",
   "metadata": {},
   "outputs": [],
   "source": [
    "a = 'Divyanshu'\n",
    "b = ' Kumar'"
   ]
  },
  {
   "cell_type": "code",
   "execution_count": 37,
   "id": "56c60d6f",
   "metadata": {},
   "outputs": [
    {
     "name": "stdout",
     "output_type": "stream",
     "text": [
      "Divyanshu Kumar\n"
     ]
    }
   ],
   "source": [
    "# add operator\n",
    "\n",
    "c = a + b\n",
    "print(c)"
   ]
  },
  {
   "cell_type": "code",
   "execution_count": 38,
   "id": "ddb975f4",
   "metadata": {},
   "outputs": [
    {
     "name": "stdout",
     "output_type": "stream",
     "text": [
      "Divyanshu Kumar\n"
     ]
    }
   ],
   "source": [
    "# addition assignment operator\n",
    "\n",
    "a += b\n",
    "print(a)"
   ]
  },
  {
   "cell_type": "code",
   "execution_count": 39,
   "id": "e66afb9e",
   "metadata": {},
   "outputs": [],
   "source": [
    "list1 =['Divyanshu', 'Studies', 'In', 'iNeuron']"
   ]
  },
  {
   "cell_type": "code",
   "execution_count": 40,
   "id": "f2adfa33",
   "metadata": {},
   "outputs": [],
   "source": [
    "# Join Method\n",
    "\n",
    "larger_string = \" \".join(list1)"
   ]
  },
  {
   "cell_type": "code",
   "execution_count": 41,
   "id": "5732cbae",
   "metadata": {},
   "outputs": [
    {
     "data": {
      "text/plain": [
       "'Divyanshu Studies In iNeuron'"
      ]
     },
     "execution_count": 41,
     "metadata": {},
     "output_type": "execute_result"
    }
   ],
   "source": [
    "larger_string"
   ]
  },
  {
   "cell_type": "markdown",
   "id": "0776de48",
   "metadata": {},
   "source": [
    "Q8. What is the benefit of first checking the target string with in or not in before using the index\n",
    "method to find a substring?"
   ]
  },
  {
   "cell_type": "code",
   "execution_count": 42,
   "id": "fd8ccb90",
   "metadata": {},
   "outputs": [
    {
     "name": "stdout",
     "output_type": "stream",
     "text": [
      "True\n"
     ]
    }
   ],
   "source": [
    "print('a' in 'Divyanshu')"
   ]
  },
  {
   "cell_type": "code",
   "execution_count": 45,
   "id": "3e75913f",
   "metadata": {},
   "outputs": [
    {
     "data": {
      "text/plain": [
       "True"
      ]
     },
     "execution_count": 45,
     "metadata": {},
     "output_type": "execute_result"
    }
   ],
   "source": [
    "'z' not in 'Divyanshu'"
   ]
  },
  {
   "cell_type": "markdown",
   "id": "b37ff6e4",
   "metadata": {},
   "source": [
    "1. Preventing Errors\n",
    "2. Conditionally Using index()\n",
    "3. Avoiding Redundant Searches"
   ]
  },
  {
   "cell_type": "code",
   "execution_count": 46,
   "id": "3ac8c04e",
   "metadata": {},
   "outputs": [
    {
     "name": "stdout",
     "output_type": "stream",
     "text": [
      "Substring found at index 21\n"
     ]
    }
   ],
   "source": [
    "target_string = 'Divyanshu Studies In iNeuron'\n",
    "\n",
    "if \"iNeuron\" in target_string:\n",
    "    index = target_string.index(\"iNeuron\")\n",
    "    print(f\"Substring found at index {index}\")\n",
    "else:\n",
    "    print(\"Substring not found\")"
   ]
  },
  {
   "cell_type": "markdown",
   "id": "7916874b",
   "metadata": {},
   "source": [
    "Q9. Which operators and built-in string methods produce simple Boolean (true/false) results?"
   ]
  },
  {
   "cell_type": "markdown",
   "id": "f4c065bd",
   "metadata": {},
   "source": [
    "String Comparison Methods:"
   ]
  },
  {
   "cell_type": "code",
   "execution_count": 47,
   "id": "08d82196",
   "metadata": {},
   "outputs": [
    {
     "name": "stdout",
     "output_type": "stream",
     "text": [
      "False\n",
      "True\n"
     ]
    }
   ],
   "source": [
    "a = 24\n",
    "b = 42\n",
    "print(a>b)\n",
    "print(b>a)"
   ]
  },
  {
   "cell_type": "markdown",
   "id": "5ab162f4",
   "metadata": {},
   "source": [
    "Membership Operators and Methods:"
   ]
  },
  {
   "cell_type": "code",
   "execution_count": 48,
   "id": "060262f9",
   "metadata": {},
   "outputs": [
    {
     "name": "stdout",
     "output_type": "stream",
     "text": [
      "False\n"
     ]
    }
   ],
   "source": [
    "c = True\n",
    "d = False\n",
    "print(c and d)"
   ]
  },
  {
   "cell_type": "markdown",
   "id": "3b91a418",
   "metadata": {},
   "source": [
    "Other Methods:"
   ]
  },
  {
   "cell_type": "code",
   "execution_count": 49,
   "id": "672cd575",
   "metadata": {},
   "outputs": [
    {
     "name": "stdout",
     "output_type": "stream",
     "text": [
      "True\n"
     ]
    }
   ],
   "source": [
    "alpnum = '123Divyanshu456iNeuron'\n",
    "print(alpnum.isalnum())"
   ]
  },
  {
   "cell_type": "code",
   "execution_count": 50,
   "id": "852f49d6",
   "metadata": {},
   "outputs": [
    {
     "data": {
      "text/plain": [
       "False"
      ]
     },
     "execution_count": 50,
     "metadata": {},
     "output_type": "execute_result"
    }
   ],
   "source": [
    "alpnum.startswith('iNeuron')"
   ]
  },
  {
   "cell_type": "code",
   "execution_count": 51,
   "id": "c48b8c94",
   "metadata": {},
   "outputs": [
    {
     "name": "stdout",
     "output_type": "stream",
     "text": [
      "True\n"
     ]
    }
   ],
   "source": [
    "print('123' in alpnum)"
   ]
  },
  {
   "cell_type": "code",
   "execution_count": null,
   "id": "9ccd00de",
   "metadata": {},
   "outputs": [],
   "source": []
  }
 ],
 "metadata": {
  "kernelspec": {
   "display_name": "Python 3 (ipykernel)",
   "language": "python",
   "name": "python3"
  },
  "language_info": {
   "codemirror_mode": {
    "name": "ipython",
    "version": 3
   },
   "file_extension": ".py",
   "mimetype": "text/x-python",
   "name": "python",
   "nbconvert_exporter": "python",
   "pygments_lexer": "ipython3",
   "version": "3.9.12"
  }
 },
 "nbformat": 4,
 "nbformat_minor": 5
}
