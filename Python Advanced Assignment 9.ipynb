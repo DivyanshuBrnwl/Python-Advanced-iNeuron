{
 "cells": [
  {
   "cell_type": "markdown",
   "id": "93f3f5d6",
   "metadata": {},
   "source": [
    "Q1. In Python 3.X, what are the names and functions of string object types?"
   ]
  },
  {
   "cell_type": "code",
   "execution_count": 32,
   "id": "14ed9ef8",
   "metadata": {},
   "outputs": [],
   "source": [
    "a = \"divyanshu\"\n",
    "b = \"TIRTH\"\n",
    "c = \"0123456789\"\n",
    "d = \"iNeuron\\tis\\ta \\tedtech\\tcompany\"\n",
    "e = [\"iNeuron\", \"is\", \"acquired\", \"by\", \"Physics\", \"wallah\", \"in\", \"265crores\"]"
   ]
  },
  {
   "cell_type": "code",
   "execution_count": 34,
   "id": "0e9a4e66",
   "metadata": {},
   "outputs": [
    {
     "name": "stdout",
     "output_type": "stream",
     "text": [
      "True\n",
      "Divyanshu\n",
      "tirth\n",
      "~~~~~divyanshu~~~~~~\n",
      "False\n",
      "True\n",
      "iNeuron       is            a             edtech        company\n",
      "True\n",
      "False\n",
      "iNeuron~is~acquired~by~Physics~wallah~in~265crores\n",
      "True\n"
     ]
    }
   ],
   "source": [
    "print(c.isdecimal())\n",
    "print(a.capitalize())\n",
    "print(b.casefold())\n",
    "print(a.center(20, \"~\"))\n",
    "print(a.isdigit())\n",
    "print(c.isdigit())\n",
    "print(d.expandtabs(14))\n",
    "print(a.islower())\n",
    "print(a.isupper())\n",
    "print(\"~\".join(e))\n",
    "print(a.isalpha())"
   ]
  },
  {
   "cell_type": "markdown",
   "id": "ff26eea0",
   "metadata": {},
   "source": [
    "capitalize(): Capitalizes the first letter of a string.\n",
    "\n",
    "casefold(): Converts a string into a caseless form.\n",
    "\n",
    "center(width[, fillchar]): Returns a centered string.\n",
    "\n",
    "count(sub[, start[, end]]): Returns the number of occurrences of substring sub in the range [start, end].\n",
    "\n",
    "encode(encoding=‘utf-8’, errors=‘strict’): Returns an encoded version of the string.\n",
    "\n",
    "endswith(suffix[, start[, end]]): Returns True if the string ends with the specified suffix, otherwise False.\n",
    "\n",
    "expandtabs([tabsize=8]): Replaces tabs with spaces.\n",
    "\n",
    "find(sub[, start[, end]]): Returns the lowest index in the range [start, end] where substring sub is found. Returns -1 if sub is not found.\n",
    "\n",
    "**format(*args, kwargs): Formats a string using placeholders.\n",
    "\n",
    "format_map(mapping): Formats a string using a mapping object.\n",
    "\n",
    "index(sub[, start[, end]]): Same as find(), but raises an exception if sub is not found.\n",
    "\n",
    "isalnum(): Returns True if all characters in the string are alphanumeric (letters and numbers), otherwise False.\n",
    "\n",
    "isalpha(): Returns True if all characters in the string are alphabetic (letters), otherwise False.\n",
    "\n",
    "isdecimal(): Returns True if all characters in the string are decimal characters, otherwise False.\n",
    "\n",
    "isdigit(): Returns True if all characters in the string are digits, otherwise False.\n",
    "\n",
    "isidentifier(): Returns True if the string is a valid identifier, otherwise False.\n",
    "\n",
    "islower(): Returns True if all cased characters in the string are lowercase and there is at least one cased character, otherwise False.\n",
    "\n",
    "isnumeric(): Returns True if all characters in the string are numeric characters, otherwise False.\n",
    "\n",
    "isprintable(): Returns True if all characters in the string are printable (not including whitespace), otherwise False.\n",
    "\n",
    "isspace(): Returns True if all characters in the string are whitespace, otherwise False.\n",
    "\n",
    "istitle(): Returns True if the string is a titlecased string and there is at least one character in the string, i.e. uppercase characters may only follow uncased characters and lowercase characters only cased ones. Otherwise, returns False.\n",
    "\n",
    "isupper(): Returns True if all cased characters in the string are uppercase and there is at least one cased character, otherwise False.\n",
    "\n",
    "join(iterable): Concatenates an iterable of strings into a single string using separator self.\n",
    "\n",
    "ljust(width[, fillchar]): Left-aligns a string within a specified width.\n",
    "\n",
    "lower(): Converts all uppercase letters in a string to lowercase letters.\n",
    "\n",
    "lstrip([chars]): Removes leading whitespace or specified chars from a string.\n",
    "\n",
    "maketrans(x[, y[, z]]): Returns a translation table to be used with translate().\n",
    "\n",
    "partition(sep): Searches for separator sep in self and returns a tuple containing three elements: everything before sep, sep itself, and everything after sep. If sep is not found, returns self and two empty strings.\n",
    "\n",
    "replace(old, new[, count]): Replaces occurrences of old with new in self. If count is specified, only replaces up to count occurrences of old.\n",
    "\n",
    "rfind(sub[, start[, end]]): Same as find(), but searches from right to left instead of left to right.\n",
    "\n",
    "rindex(sub[, start[, end]]): Same as index(), but searches from right to left instead of left to right. Raises an exception if sub is not found.\n",
    "\n",
    "rjust(width[, fillchar]): Right-aligns a string within a specified width.\n",
    "\n",
    "rpartition(sep): Searches for separator sep in self and returns a tuple containing three elements: everything before sep, sep itself, and everything after sep. If sep is not found, returns two empty strings and self.\n",
    "\n",
    "rsplit([sep[, maxsplit]]): Splits self into substrings from right to left using separator sep. If maxsplit is specified, splits at most maxsplit times. If sep is not specified or None"
   ]
  },
  {
   "cell_type": "markdown",
   "id": "56f9554a",
   "metadata": {},
   "source": [
    "Q2. How do the string forms in Python 3.X vary in terms of operations?"
   ]
  },
  {
   "cell_type": "markdown",
   "id": "de5aafb7",
   "metadata": {},
   "source": [
    "In python 3 the default format of string is unicode whereas in python 2 we need to explicitly mention unicode value using \"u\"."
   ]
  },
  {
   "cell_type": "markdown",
   "id": "4a3b1f83",
   "metadata": {},
   "source": [
    "Q3. In python 3.X, how do you put non-ASCII Unicode characters in a string?"
   ]
  },
  {
   "cell_type": "code",
   "execution_count": 37,
   "id": "a6018e89",
   "metadata": {},
   "outputs": [
    {
     "name": "stdout",
     "output_type": "stream",
     "text": [
      "konnichiha\n"
     ]
    }
   ],
   "source": [
    "from unidecode import unidecode\n",
    "\n",
    "string = \"こんにちは\"\n",
    "print(unidecode(string))"
   ]
  },
  {
   "cell_type": "markdown",
   "id": "0d5437a2",
   "metadata": {},
   "source": [
    "Unidecode is a Python library that allows you to transliterate Unicode text into ASCII text. It is useful for converting text with non-ASCII characters into a more readable format. "
   ]
  },
  {
   "cell_type": "markdown",
   "id": "c389ef2d",
   "metadata": {},
   "source": [
    "Q4. In Python 3.X, what are the key differences between text-mode and binary-mode files?"
   ]
  },
  {
   "cell_type": "markdown",
   "id": "2887ccf7",
   "metadata": {},
   "source": [
    "Some key differences between text-mode and binary-mode files:\n",
    "\n",
    "1. In text mode, read returns Unicode strings. In binary mode, read returns a bytes instance.\n",
    "2. Text mode is used for reading and writing text files. Binary mode is used for reading and writing binary files.\n",
    "3. Text mode preserves the platform’s native line endings. Binary mode preserves the original data.\n",
    "4. Text mode is the default mode. Binary mode requires adding ‘b’ to the mode argument when opening a file."
   ]
  },
  {
   "cell_type": "markdown",
   "id": "eaface75",
   "metadata": {},
   "source": [
    "Q5. How can you interpret a Unicode text file containing text encoded in a different encoding than\n",
    "your platform&#39;s default?"
   ]
  },
  {
   "cell_type": "markdown",
   "id": "944fc069",
   "metadata": {},
   "source": [
    "To interpret a Unicode text file containing text encoded in a different encoding than your platform’s default in Python 3, you can use the codecs module. Here is an example:"
   ]
  },
  {
   "cell_type": "code",
   "execution_count": 41,
   "id": "d0051621",
   "metadata": {},
   "outputs": [],
   "source": [
    "import codecs\n",
    "\n",
    "with codecs.open(\"test2Ineuron.txt\", \"r\", encoding=\"utf-8\") as f:\n",
    "    text = f.read()\n"
   ]
  },
  {
   "cell_type": "code",
   "execution_count": 42,
   "id": "e15a8c4b",
   "metadata": {},
   "outputs": [
    {
     "name": "stdout",
     "output_type": "stream",
     "text": [
      "I Have a Dell Laptop\n",
      "I study in Ineuron\n",
      "こんにちは\n"
     ]
    }
   ],
   "source": [
    "print(text)"
   ]
  },
  {
   "cell_type": "markdown",
   "id": "9f910e2c",
   "metadata": {},
   "source": [
    "Q6. What is the best way to make a Unicode text file in a particular encoding format?"
   ]
  },
  {
   "cell_type": "markdown",
   "id": "0c31a446",
   "metadata": {},
   "source": [
    " Use str.encode() and file.write() to make a Unicode text file in a particular encoding format, default encoding format is UTF-18.\n",
    "\n",
    "Call str.encode(encoding) with encoding set to utf8 to encode str.\n",
    "Call open(file, mode) to open a file with mode set to wb . wb writes to files in binary mode & preserves UTF-8format.\n",
    "Call file.write(data) to write data to the file."
   ]
  },
  {
   "cell_type": "code",
   "execution_count": 43,
   "id": "802ae068",
   "metadata": {},
   "outputs": [
    {
     "name": "stdout",
     "output_type": "stream",
     "text": [
      "b'\\xd1\\x83\\xd0\\xbb\\xd1\\x8b\\xd0\\xb1\\xd0\\xb0\\xd1\\x82\\xd1\\x8c\\xd1\\x81\\xd1\\x8f \\xd0\\x92\\xd0\\xbb\\xd0\\xb0\\xd0\\xb4\\xd0\\xb8\\xd0\\xbc\\xd0\\xb8\\xd1\\x80 \\xd0\\x9f\\xd1\\x83\\xd1\\x82\\xd0\\xb8\\xd0\\xbd'\n",
      "\n",
      "b'\\xd1\\x83\\xd0\\xbb\\xd1\\x8b\\xd0\\xb1\\xd0\\xb0\\xd1\\x82\\xd1\\x8c\\xd1\\x81\\xd1\\x8f \\xd0\\x92\\xd0\\xbb\\xd0\\xb0\\xd0\\xb4\\xd0\\xb8\\xd0\\xbc\\xd0\\xb8\\xd1\\x80 \\xd0\\x9f\\xd1\\x83\\xd1\\x82\\xd0\\xb8\\xd0\\xbd'\n"
     ]
    }
   ],
   "source": [
    "unicode_text = u\"улыбаться Владимир Путин\"\n",
    "encoded_unicode_text = unicode_text.encode(\"utf-8\")\n",
    "print(encoded_unicode_text,end=\"\\n\\n\")\n",
    "\n",
    "w_file = open(\"w_file.txt\",\"wb\")\n",
    "w_file.write(encoded_unicode_text)\n",
    "w_file.close()\n",
    "\n",
    "r_file = open(\"w_file.txt\",\"rb\")\n",
    "data = r_file.read()\n",
    "print(data)"
   ]
  },
  {
   "cell_type": "markdown",
   "id": "4701b381",
   "metadata": {},
   "source": [
    "Q7. What qualifies ASCII text as a form of Unicode text?"
   ]
  },
  {
   "cell_type": "markdown",
   "id": "aa52b752",
   "metadata": {},
   "source": [
    "ASCII text is a subset of Unicode text. ASCII defines 128 characters that map to the numbers 0-127. Unicode defines more than 1,40,000 characters from more than 150 modern and historic scripts along with emoji. For backward compatibility, the first 128 Unicode characters point to ASCII characters. Since UTF-8 encodes each of those characters using 1-byte, any ASCII text is also a UTF-8 text."
   ]
  },
  {
   "cell_type": "markdown",
   "id": "1d886515",
   "metadata": {},
   "source": [
    "Q8. How much of an effect does the change in string types in Python 3.X have on your code?"
   ]
  },
  {
   "cell_type": "markdown",
   "id": "7f83f3f5",
   "metadata": {},
   "source": [
    "Python 3 stores strings as Unicode by default whereas Python 2 requires you to mark a string with a u if you want to store it as Unicode. Unicode strings are more versatile than ASCII strings, which are the Python 3.X default, as they can store letters from foreign languages as well as emoji and the standard Roman letters and numerals."
   ]
  },
  {
   "cell_type": "code",
   "execution_count": null,
   "id": "c6532866",
   "metadata": {},
   "outputs": [],
   "source": []
  }
 ],
 "metadata": {
  "kernelspec": {
   "display_name": "Python 3 (ipykernel)",
   "language": "python",
   "name": "python3"
  },
  "language_info": {
   "codemirror_mode": {
    "name": "ipython",
    "version": 3
   },
   "file_extension": ".py",
   "mimetype": "text/x-python",
   "name": "python",
   "nbconvert_exporter": "python",
   "pygments_lexer": "ipython3",
   "version": "3.9.12"
  }
 },
 "nbformat": 4,
 "nbformat_minor": 5
}
