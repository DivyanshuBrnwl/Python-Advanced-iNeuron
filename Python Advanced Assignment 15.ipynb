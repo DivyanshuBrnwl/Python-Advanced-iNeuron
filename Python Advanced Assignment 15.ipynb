{
 "cells": [
  {
   "cell_type": "markdown",
   "id": "df6562df",
   "metadata": {},
   "source": [
    "1. What are the new features added in Python 3.8 version?"
   ]
  },
  {
   "cell_type": "code",
   "execution_count": 1,
   "id": "e2e8b930",
   "metadata": {},
   "outputs": [],
   "source": [
    "import math"
   ]
  },
  {
   "cell_type": "code",
   "execution_count": 3,
   "id": "460bd930",
   "metadata": {},
   "outputs": [],
   "source": [
    "a = [2, 3, 4, 5]"
   ]
  },
  {
   "cell_type": "code",
   "execution_count": 4,
   "id": "54a8989d",
   "metadata": {},
   "outputs": [
    {
     "data": {
      "text/plain": [
       "120"
      ]
     },
     "execution_count": 4,
     "metadata": {},
     "output_type": "execute_result"
    }
   ],
   "source": [
    "math.prod(a)"
   ]
  },
  {
   "cell_type": "markdown",
   "id": "9e8e15ac",
   "metadata": {},
   "source": [
    "Syntax Warning:\n",
    "Python 3.8 introduced a new syntax warning for cases where a syntax feature is not recommended and might be deprecated in the future.\n",
    "\n",
    "The math.prod() Function:\n",
    "The math module now includes a prod() function for computing the product of a sequence of numbers.\n",
    "\n",
    "New Syntax Features:\n",
    "Support for the \"new syntax features\" is added.\n",
    "Example: Using underscores as separators in numeric literals, like 1_000_000.\n",
    "\n",
    "Performance Improvements and Optimizations:\n",
    "Python 3.8 includes various performance improvements and optimizations, enhancing the overall speed of execution.\n",
    "\n",
    "f-strings Support = for Self-documenting Expressions and Debugging:\n",
    "f-strings now support an equal sign (=) for self-documenting expressions and debugging."
   ]
  },
  {
   "cell_type": "code",
   "execution_count": null,
   "id": "ecf11395",
   "metadata": {},
   "outputs": [],
   "source": [
    "2. What is monkey patching in Python?"
   ]
  },
  {
   "cell_type": "code",
   "execution_count": 5,
   "id": "402c44fc",
   "metadata": {},
   "outputs": [],
   "source": [
    "class MyClass:\n",
    "    def say_hello(self):\n",
    "        return \"Hello, I study in iNeuron!\"\n",
    "    \n",
    "    def name(self):\n",
    "        return \"My name is Divyanshu Kumar\"\n",
    "    "
   ]
  },
  {
   "cell_type": "code",
   "execution_count": 6,
   "id": "a49e80f8",
   "metadata": {},
   "outputs": [],
   "source": [
    "def new_method(self):\n",
    "    return 'Hello! This method is created after creation of class'"
   ]
  },
  {
   "cell_type": "code",
   "execution_count": 7,
   "id": "5fc537d2",
   "metadata": {},
   "outputs": [],
   "source": [
    "MyClass.say_some = new_method"
   ]
  },
  {
   "cell_type": "code",
   "execution_count": 8,
   "id": "1508b226",
   "metadata": {},
   "outputs": [],
   "source": [
    "obj = MyClass()"
   ]
  },
  {
   "cell_type": "code",
   "execution_count": 11,
   "id": "bda192b6",
   "metadata": {},
   "outputs": [
    {
     "name": "stdout",
     "output_type": "stream",
     "text": [
      "Hello, I study in iNeuron!\n",
      "Hello! This method is created after creation of class\n"
     ]
    }
   ],
   "source": [
    "print(obj.say_hello())\n",
    "print(obj.say_some())"
   ]
  },
  {
   "cell_type": "markdown",
   "id": "56d7685c",
   "metadata": {},
   "source": [
    "In python monkey patching refers to dynamic modification of a class or a module at runtime.\n",
    "It involves adding, modifying or overriding the attributes or methods of class or module often for the purpose of fixing bugs or fixing the bugs, extendign the functionalityor making temporary changes without modifying the original code."
   ]
  },
  {
   "cell_type": "markdown",
   "id": "dfd69409",
   "metadata": {},
   "source": [
    "3. What is the difference between a shallow copy and deep copy?"
   ]
  },
  {
   "cell_type": "markdown",
   "id": "b957e903",
   "metadata": {},
   "source": [
    "A shallow copy creates a new object, but does not create new objects for the elements inside the original object. Instead, it copies references to the objects contained in the original."
   ]
  },
  {
   "cell_type": "code",
   "execution_count": 13,
   "id": "4625467c",
   "metadata": {},
   "outputs": [],
   "source": [
    "import copy"
   ]
  },
  {
   "cell_type": "code",
   "execution_count": 14,
   "id": "e67ffdb9",
   "metadata": {},
   "outputs": [],
   "source": [
    "original_list = [['A', 'F', 'G', 'D'], ['S', 'F', 'T', 'M']]"
   ]
  },
  {
   "cell_type": "code",
   "execution_count": 15,
   "id": "9ca94ef8",
   "metadata": {},
   "outputs": [],
   "source": [
    "shallow_copy = copy.copy(original_list)"
   ]
  },
  {
   "cell_type": "code",
   "execution_count": 16,
   "id": "36958c28",
   "metadata": {},
   "outputs": [],
   "source": [
    "shallow_copy[0][3] = 9999"
   ]
  },
  {
   "cell_type": "code",
   "execution_count": 17,
   "id": "11149452",
   "metadata": {},
   "outputs": [
    {
     "data": {
      "text/plain": [
       "[['A', 'F', 'G', 9999], ['S', 'F', 'T', 'M']]"
      ]
     },
     "execution_count": 17,
     "metadata": {},
     "output_type": "execute_result"
    }
   ],
   "source": [
    "shallow_copy"
   ]
  },
  {
   "cell_type": "code",
   "execution_count": 18,
   "id": "f8e78274",
   "metadata": {},
   "outputs": [
    {
     "data": {
      "text/plain": [
       "[['A', 'F', 'G', 9999], ['S', 'F', 'T', 'M']]"
      ]
     },
     "execution_count": 18,
     "metadata": {},
     "output_type": "execute_result"
    }
   ],
   "source": [
    "original_list"
   ]
  },
  {
   "cell_type": "markdown",
   "id": "ee1d6848",
   "metadata": {},
   "source": [
    "A deep copy creates a new object and recursively copies the objects found in the original object. This results in a completely independent copy, including copies of all the objects within the original."
   ]
  },
  {
   "cell_type": "code",
   "execution_count": 19,
   "id": "8bb36605",
   "metadata": {},
   "outputs": [],
   "source": [
    "original_list1 = [['A', 'F', 'G', 'D'], ['S', 'F', 'T', 'M']]"
   ]
  },
  {
   "cell_type": "code",
   "execution_count": 20,
   "id": "036abb9c",
   "metadata": {},
   "outputs": [],
   "source": [
    "deep_copy = copy.deepcopy(original_list1)"
   ]
  },
  {
   "cell_type": "code",
   "execution_count": 21,
   "id": "8dfdd0d9",
   "metadata": {},
   "outputs": [],
   "source": [
    "deep_copy[0][3] = 9999"
   ]
  },
  {
   "cell_type": "code",
   "execution_count": 22,
   "id": "3de45964",
   "metadata": {},
   "outputs": [
    {
     "data": {
      "text/plain": [
       "[['A', 'F', 'G', 'D'], ['S', 'F', 'T', 'M']]"
      ]
     },
     "execution_count": 22,
     "metadata": {},
     "output_type": "execute_result"
    }
   ],
   "source": [
    "original_list1"
   ]
  },
  {
   "cell_type": "code",
   "execution_count": 23,
   "id": "74f8446c",
   "metadata": {},
   "outputs": [
    {
     "data": {
      "text/plain": [
       "[['A', 'F', 'G', 9999], ['S', 'F', 'T', 'M']]"
      ]
     },
     "execution_count": 23,
     "metadata": {},
     "output_type": "execute_result"
    }
   ],
   "source": [
    "deep_copy"
   ]
  },
  {
   "cell_type": "code",
   "execution_count": null,
   "id": "ee89892b",
   "metadata": {},
   "outputs": [],
   "source": [
    "4. What is the maximum possible length of an identifier?"
   ]
  },
  {
   "cell_type": "markdown",
   "id": "a2fb9538",
   "metadata": {},
   "source": [
    "In Python, the highest possible length of an identifier is 79 characters"
   ]
  },
  {
   "cell_type": "code",
   "execution_count": null,
   "id": "c16c3632",
   "metadata": {},
   "outputs": [],
   "source": [
    "5. What is generator comprehension?"
   ]
  },
  {
   "cell_type": "code",
   "execution_count": 30,
   "id": "47c4c739",
   "metadata": {},
   "outputs": [],
   "source": [
    "gen_comp = (x**2 for x in range(5))"
   ]
  },
  {
   "cell_type": "code",
   "execution_count": 31,
   "id": "cbe1a8b6",
   "metadata": {},
   "outputs": [
    {
     "name": "stdout",
     "output_type": "stream",
     "text": [
      "0\n",
      "1\n",
      "4\n",
      "9\n",
      "16\n"
     ]
    }
   ],
   "source": [
    "for i in gen_comp:\n",
    "    print(i)"
   ]
  },
  {
   "cell_type": "markdown",
   "id": "24a3b67a",
   "metadata": {},
   "source": [
    "Just like list comprehension, generator comprehension is the concise way of creating generator object."
   ]
  },
  {
   "cell_type": "code",
   "execution_count": null,
   "id": "090a913c",
   "metadata": {},
   "outputs": [],
   "source": []
  }
 ],
 "metadata": {
  "kernelspec": {
   "display_name": "Python 3 (ipykernel)",
   "language": "python",
   "name": "python3"
  },
  "language_info": {
   "codemirror_mode": {
    "name": "ipython",
    "version": 3
   },
   "file_extension": ".py",
   "mimetype": "text/x-python",
   "name": "python",
   "nbconvert_exporter": "python",
   "pygments_lexer": "ipython3",
   "version": "3.9.12"
  }
 },
 "nbformat": 4,
 "nbformat_minor": 5
}
