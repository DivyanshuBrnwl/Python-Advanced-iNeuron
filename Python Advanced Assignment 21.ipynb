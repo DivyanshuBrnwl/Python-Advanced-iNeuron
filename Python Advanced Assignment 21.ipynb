{
 "cells": [
  {
   "cell_type": "code",
   "execution_count": null,
   "id": "e16efc42",
   "metadata": {},
   "outputs": [],
   "source": [
    "Q1. What is a probability distribution, exactly? If the values are meant to be random, how can you\n",
    "predict them at all?"
   ]
  },
  {
   "cell_type": "markdown",
   "id": "13fea3c7",
   "metadata": {},
   "source": [
    "In Statistics, the probability distribution gives the possibility of each outcome of a random experiment or event.\n",
    "\n",
    "Based on the previous data and the occurences of the random event, we can predict the outcome in terms of probabilities."
   ]
  },
  {
   "cell_type": "markdown",
   "id": "dca5f1bd",
   "metadata": {},
   "source": [
    "Q2. Is there a distinction between true random numbers and pseudo-random numbers, if there is\n",
    "one? Why are the latter considered “good enough”?"
   ]
  },
  {
   "cell_type": "markdown",
   "id": "f914d7d7",
   "metadata": {},
   "source": [
    "True random numbers\n",
    "\n",
    "True random numbers are generated from a process that is inherently unpredictable.\n",
    "True randomness is difficult to achieve and often involves capturing unpredictable events from the physical world.\n",
    "\n",
    "Pseudo-random numbers\n",
    "\n",
    "Pseudo-random numbers are generated using algorithms. While the sequence of numbers appears to be random, it is entirely determined by an initial value called a seed and a mathematical formula\n",
    "Pseudo-random number generators are used in computer programs and simulations to simulate randomness. However, they are not truly random\n",
    "\n",
    "computationally efficient and can generate sequences of numbers quickly."
   ]
  },
  {
   "cell_type": "markdown",
   "id": "a3fed3fc",
   "metadata": {},
   "source": [
    "Q3. What are the two main factors that influence the behaviour of a &quot;normal&quot; probability distribution?"
   ]
  },
  {
   "cell_type": "markdown",
   "id": "6387561c",
   "metadata": {},
   "source": [
    "Mean and standard deviation"
   ]
  },
  {
   "cell_type": "code",
   "execution_count": null,
   "id": "9f8d7bb4",
   "metadata": {},
   "outputs": [],
   "source": [
    "Q4. Provide a real-life example of a normal distribution."
   ]
  },
  {
   "cell_type": "markdown",
   "id": "b81074f5",
   "metadata": {},
   "source": [
    "Height of student in a class"
   ]
  },
  {
   "cell_type": "code",
   "execution_count": null,
   "id": "007fd9f5",
   "metadata": {},
   "outputs": [],
   "source": [
    "Q5. In the short term, how can you expect a probability distribution to behave? What do you think will\n",
    "happen as the number of trials grows?"
   ]
  },
  {
   "cell_type": "markdown",
   "id": "1f202676",
   "metadata": {},
   "source": [
    "In short term the behaviour of probablity ditribution will fluctuate and vary. As the number of trials grows the variance or the spread of the data will decrease."
   ]
  },
  {
   "cell_type": "code",
   "execution_count": null,
   "id": "74c01839",
   "metadata": {},
   "outputs": [],
   "source": [
    "Q6. What kind of object can be shuffled by using random.shuffle?"
   ]
  },
  {
   "cell_type": "code",
   "execution_count": 7,
   "id": "e06844fe",
   "metadata": {},
   "outputs": [],
   "source": [
    "list1 = [ i for i in range(0, 30) if i % 3 == 0]"
   ]
  },
  {
   "cell_type": "code",
   "execution_count": 8,
   "id": "728d5120",
   "metadata": {},
   "outputs": [],
   "source": [
    "import random\n",
    "random.shuffle(list1)"
   ]
  },
  {
   "cell_type": "code",
   "execution_count": 9,
   "id": "96ed0de4",
   "metadata": {},
   "outputs": [
    {
     "data": {
      "text/plain": [
       "[0, 27, 15, 9, 21, 24, 6, 3, 18, 12]"
      ]
     },
     "execution_count": 9,
     "metadata": {},
     "output_type": "execute_result"
    }
   ],
   "source": [
    "list1"
   ]
  },
  {
   "cell_type": "markdown",
   "id": "edd00acb",
   "metadata": {},
   "source": [
    "The random.shuffle function in Python is used to shuffle the elements of a mutable sequence in place."
   ]
  },
  {
   "cell_type": "markdown",
   "id": "4b436004",
   "metadata": {},
   "source": [
    "Q7. Describe the math package&#39;s general categories of functions."
   ]
  },
  {
   "cell_type": "markdown",
   "id": "218cb73e",
   "metadata": {},
   "source": [
    "1. Trigonometric functions\n",
    "2. Quadratic functions\n",
    "3. Exponential functions\n",
    "4. Hyperbolic functions\n",
    "5. Periodic functions\n",
    "6. Arithmetic functions\n",
    "7. Logarithimic functions\n",
    "8. Conversions to Integer"
   ]
  },
  {
   "cell_type": "markdown",
   "id": "353cb88c",
   "metadata": {},
   "source": [
    "Q8. What is the relationship between exponentiation and logarithms?"
   ]
  },
  {
   "cell_type": "markdown",
   "id": "672e6ff7",
   "metadata": {},
   "source": [
    "Exponentiation and logarithms are inverse operations. Exponentiation raises a base to a power, while logarithms determine the exponent to which a base must be raised to obtain a given value."
   ]
  },
  {
   "cell_type": "markdown",
   "id": "6a5a4320",
   "metadata": {},
   "source": [
    "Q9. What are the three logarithmic functions that Python supports?"
   ]
  },
  {
   "cell_type": "code",
   "execution_count": 18,
   "id": "4b6c6f4b",
   "metadata": {},
   "outputs": [
    {
     "name": "stdout",
     "output_type": "stream",
     "text": [
      "2.302585092994046\n",
      "2.0\n",
      "3.0\n"
     ]
    }
   ],
   "source": [
    "import math\n",
    "\n",
    "# Natural Logarithm\n",
    "result1 = math.log(10)\n",
    "print(result1)\n",
    "# Common Logarithm\n",
    "result2 = math.log10(100)\n",
    "print(result2)\n",
    "\n",
    "# Custom Base Logarithm\n",
    "result3 = math.log(8, 2)\n",
    "print(result3)\n"
   ]
  },
  {
   "cell_type": "code",
   "execution_count": null,
   "id": "7f1485ee",
   "metadata": {},
   "outputs": [],
   "source": []
  }
 ],
 "metadata": {
  "kernelspec": {
   "display_name": "Python 3 (ipykernel)",
   "language": "python",
   "name": "python3"
  },
  "language_info": {
   "codemirror_mode": {
    "name": "ipython",
    "version": 3
   },
   "file_extension": ".py",
   "mimetype": "text/x-python",
   "name": "python",
   "nbconvert_exporter": "python",
   "pygments_lexer": "ipython3",
   "version": "3.9.12"
  }
 },
 "nbformat": 4,
 "nbformat_minor": 5
}
