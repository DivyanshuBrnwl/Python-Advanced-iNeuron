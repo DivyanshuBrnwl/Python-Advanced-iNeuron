{
 "cells": [
  {
   "cell_type": "markdown",
   "id": "e9c9b3b1",
   "metadata": {},
   "source": [
    "Q1. Can you create a programme or function that employs both positive and negative indexing? Is\n",
    "there any repercussion if you do so?"
   ]
  },
  {
   "cell_type": "code",
   "execution_count": 3,
   "id": "922fc9b2",
   "metadata": {},
   "outputs": [
    {
     "name": "stdout",
     "output_type": "stream",
     "text": [
      "[1, 4, 7, 10, 13, 16, 19]\n"
     ]
    }
   ],
   "source": [
    "a = [i for i in range(1, 20, 3)]\n",
    "print(a)"
   ]
  },
  {
   "cell_type": "code",
   "execution_count": 7,
   "id": "9d9e2eb1",
   "metadata": {},
   "outputs": [
    {
     "name": "stdout",
     "output_type": "stream",
     "text": [
      "[7, 10, 13, 16, 19]\n"
     ]
    }
   ],
   "source": [
    "print(a[-5:7])"
   ]
  },
  {
   "cell_type": "markdown",
   "id": "3cf5d71f",
   "metadata": {},
   "source": [
    "There's no direct issue with using both positive and negative indices, it's crucial to handle boundary conditions carefully and prioritize code clarity by consistently using one indexing style when possible."
   ]
  },
  {
   "cell_type": "markdown",
   "id": "0a770515",
   "metadata": {},
   "source": [
    "Q2. What is the most effective way of starting with 1,000 elements in a Python list? Assume that all\n",
    "elements should be set to the same value."
   ]
  },
  {
   "cell_type": "code",
   "execution_count": 12,
   "id": "1c4729d6",
   "metadata": {},
   "outputs": [],
   "source": [
    "value = 3\n",
    "list1 = [value for _ in range(1000)]"
   ]
  },
  {
   "cell_type": "markdown",
   "id": "f0b0b7e5",
   "metadata": {},
   "source": [
    "Q3. How do you slice a list to get any other part while missing the rest? (For example, suppose you\n",
    "want to make a new list with the elements first, third, fifth, seventh, and so on.)"
   ]
  },
  {
   "cell_type": "code",
   "execution_count": 15,
   "id": "d3165d68",
   "metadata": {},
   "outputs": [],
   "source": [
    "a = [i for i in range (1, 27, 3)]"
   ]
  },
  {
   "cell_type": "code",
   "execution_count": 18,
   "id": "437f3889",
   "metadata": {},
   "outputs": [
    {
     "data": {
      "text/plain": [
       "[1, 4, 7, 10, 13, 16, 19, 22, 25]"
      ]
     },
     "execution_count": 18,
     "metadata": {},
     "output_type": "execute_result"
    }
   ],
   "source": [
    "a"
   ]
  },
  {
   "cell_type": "code",
   "execution_count": 19,
   "id": "c1210a6c",
   "metadata": {},
   "outputs": [],
   "source": [
    "b = [a[0::2]]"
   ]
  },
  {
   "cell_type": "code",
   "execution_count": 20,
   "id": "64fb74eb",
   "metadata": {},
   "outputs": [
    {
     "data": {
      "text/plain": [
       "[[1, 7, 13, 19, 25]]"
      ]
     },
     "execution_count": 20,
     "metadata": {},
     "output_type": "execute_result"
    }
   ],
   "source": [
    "b"
   ]
  },
  {
   "cell_type": "markdown",
   "id": "417137ff",
   "metadata": {},
   "source": [
    "Q4. Explain the distinctions between indexing and slicing."
   ]
  },
  {
   "cell_type": "markdown",
   "id": "baf87f29",
   "metadata": {},
   "source": [
    "Indexing and slicing are two concepts used when working with sequences in Python, such as strings, lists, and tuples. While both involve accessing elements from a sequence, they have distinct purposes and behaviors.\n",
    "\n",
    "\n",
    "Indexing is about retrieving individual elements from a sequence, while slicing involves creating new subsequences by specifying a range of indices. Both concepts are fundamental for working with ordered collections in Python."
   ]
  },
  {
   "cell_type": "markdown",
   "id": "0d805333",
   "metadata": {},
   "source": [
    "Q5. What happens if one of the slicing expression&#39;s indexes is out of range?"
   ]
  },
  {
   "cell_type": "code",
   "execution_count": 30,
   "id": "a1c71787",
   "metadata": {},
   "outputs": [
    {
     "name": "stdout",
     "output_type": "stream",
     "text": [
      "[1, 4, 7, 10, 13, 16, 19, 22]\n"
     ]
    }
   ],
   "source": [
    "a = [i for i in range(1, 25, 3)]\n",
    "print(a)"
   ]
  },
  {
   "cell_type": "code",
   "execution_count": 24,
   "id": "63281a69",
   "metadata": {},
   "outputs": [
    {
     "data": {
      "text/plain": [
       "[4, 7, 10, 13, 16, 19, 22]"
      ]
     },
     "execution_count": 24,
     "metadata": {},
     "output_type": "execute_result"
    }
   ],
   "source": [
    "a[1:20] \n",
    "\n",
    "# No IndexError, includes elements up to the end"
   ]
  },
  {
   "cell_type": "code",
   "execution_count": 25,
   "id": "db2a7be8",
   "metadata": {},
   "outputs": [
    {
     "data": {
      "text/plain": [
       "[]"
      ]
     },
     "execution_count": 25,
     "metadata": {},
     "output_type": "execute_result"
    }
   ],
   "source": [
    "a[20:40]\n",
    "\n",
    "# No IndexError, output will be empty list"
   ]
  },
  {
   "cell_type": "markdown",
   "id": "5c8851d5",
   "metadata": {},
   "source": [
    "Q6. If you pass a list to a function, and if you want the function to be able to change the values of the\n",
    "list—so that the list is different after the function returns—what action should you avoid?"
   ]
  },
  {
   "cell_type": "code",
   "execution_count": 34,
   "id": "f7220d3f",
   "metadata": {},
   "outputs": [],
   "source": [
    "def modify_list_return_new(input_list):\n",
    "    return input_list + [99, 100]\n"
   ]
  },
  {
   "cell_type": "code",
   "execution_count": 35,
   "id": "0e157223",
   "metadata": {},
   "outputs": [],
   "source": [
    "original_list = [1, 2, 3, 4, 5, 6]"
   ]
  },
  {
   "cell_type": "code",
   "execution_count": 36,
   "id": "32a2214a",
   "metadata": {},
   "outputs": [],
   "source": [
    "new_list = modify_list_return_new(original_list)"
   ]
  },
  {
   "cell_type": "code",
   "execution_count": 37,
   "id": "c46c0978",
   "metadata": {},
   "outputs": [
    {
     "name": "stdout",
     "output_type": "stream",
     "text": [
      "[1, 2, 3, 4, 5, 6]\n"
     ]
    }
   ],
   "source": [
    "print(original_list)"
   ]
  },
  {
   "cell_type": "code",
   "execution_count": 38,
   "id": "a0fa98bd",
   "metadata": {},
   "outputs": [
    {
     "name": "stdout",
     "output_type": "stream",
     "text": [
      "[1, 2, 3, 4, 5, 6, 99, 100]\n"
     ]
    }
   ],
   "source": [
    "print(new_list)"
   ]
  },
  {
   "cell_type": "markdown",
   "id": "50c9ae90",
   "metadata": {},
   "source": [
    "By being mindful when doing different operation in the list, we can control whether the function should alter the original list or not.\"+=\" operator and 'extend' method can change the original list while using this method. "
   ]
  },
  {
   "cell_type": "markdown",
   "id": "2876e349",
   "metadata": {},
   "source": [
    "Q7. What is the concept of an unbalanced matrix?"
   ]
  },
  {
   "cell_type": "markdown",
   "id": "9a87702c",
   "metadata": {},
   "source": [
    "A Unbalanced matric refer to a matrix that does not have same number of rows and columns.\n",
    "Matrices are denoted by their dimensions, with the number of rows listed first and then the number of columns.\n",
    "For example, a matrix with the m rows and n columns is referred\n",
    "to as an 'm x n' matrix."
   ]
  },
  {
   "cell_type": "markdown",
   "id": "ab18d094",
   "metadata": {},
   "source": [
    "Q8. Why is it necessary to use either list comprehension or a loop to create arbitrarily large matrices?"
   ]
  },
  {
   "cell_type": "code",
   "execution_count": 6,
   "id": "5b042efa",
   "metadata": {},
   "outputs": [],
   "source": [
    "rows = 3\n",
    "columns = 4\n",
    "matrix = [[i+j for i in range(columns)]for j in range(rows)]"
   ]
  },
  {
   "cell_type": "code",
   "execution_count": 7,
   "id": "9d4747ca",
   "metadata": {},
   "outputs": [
    {
     "data": {
      "text/plain": [
       "[[0, 1, 2, 3], [1, 2, 3, 4], [2, 3, 4, 5]]"
      ]
     },
     "execution_count": 7,
     "metadata": {},
     "output_type": "execute_result"
    }
   ],
   "source": [
    "matrix"
   ]
  },
  {
   "cell_type": "code",
   "execution_count": 8,
   "id": "ab96e012",
   "metadata": {},
   "outputs": [],
   "source": [
    "for _ in range(rows):\n",
    "    matrix.append([i for i in range(columns)])"
   ]
  },
  {
   "cell_type": "code",
   "execution_count": 9,
   "id": "465c3007",
   "metadata": {},
   "outputs": [
    {
     "data": {
      "text/plain": [
       "[[0, 1, 2, 3],\n",
       " [1, 2, 3, 4],\n",
       " [2, 3, 4, 5],\n",
       " [0, 1, 2, 3],\n",
       " [0, 1, 2, 3],\n",
       " [0, 1, 2, 3]]"
      ]
     },
     "execution_count": 9,
     "metadata": {},
     "output_type": "execute_result"
    }
   ],
   "source": [
    "matrix"
   ]
  },
  {
   "cell_type": "markdown",
   "id": "c27f916b",
   "metadata": {},
   "source": [
    "1. They allow you dynamically create a matrix of different dimensionsby changing few variable in the code as shown above.\n",
    "2. They allow you write code in more concise and readable way that help others understand the code  easily.\n",
    "3. They alllow you to easily change the dimensions of the matrix."
   ]
  },
  {
   "cell_type": "code",
   "execution_count": null,
   "id": "faa523ba",
   "metadata": {},
   "outputs": [],
   "source": []
  }
 ],
 "metadata": {
  "kernelspec": {
   "display_name": "Python 3 (ipykernel)",
   "language": "python",
   "name": "python3"
  },
  "language_info": {
   "codemirror_mode": {
    "name": "ipython",
    "version": 3
   },
   "file_extension": ".py",
   "mimetype": "text/x-python",
   "name": "python",
   "nbconvert_exporter": "python",
   "pygments_lexer": "ipython3",
   "version": "3.9.12"
  }
 },
 "nbformat": 4,
 "nbformat_minor": 5
}
