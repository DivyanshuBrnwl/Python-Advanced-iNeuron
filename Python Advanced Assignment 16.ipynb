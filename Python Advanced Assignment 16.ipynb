{
 "cells": [
  {
   "cell_type": "markdown",
   "id": "666f9e14",
   "metadata": {},
   "source": [
    "Q1. What is the benefit of regular expressions?\n",
    "\n"
   ]
  },
  {
   "cell_type": "markdown",
   "id": "e88fbc79",
   "metadata": {},
   "source": [
    "Regular expressions (regex or regexp) provide a powerful and flexible means of pattern matching and text manipulation in strings.\n",
    "\n"
   ]
  },
  {
   "cell_type": "markdown",
   "id": "e2bc6a99",
   "metadata": {},
   "source": [
    "Q2. Describe the difference between the effects of \"(ab)c+\" and \"a(bc)+.\" Which of these, if any, is the unqualified pattern \"abc+\"?"
   ]
  },
  {
   "cell_type": "markdown",
   "id": "18864583",
   "metadata": {},
   "source": [
    "\"(ab)c+\" :-\n",
    "The entire regular expression matches sequences where \"ab\" is followed by one or more \"c\" characters."
   ]
  },
  {
   "cell_type": "markdown",
   "id": "c0c001b7",
   "metadata": {},
   "source": [
    "\"a(bc)+\" :-\n",
    "The entire regular expression matches sequences where \"a\" is followed by one or more occurrences of the substring \"bc\"."
   ]
  },
  {
   "cell_type": "markdown",
   "id": "c4961584",
   "metadata": {},
   "source": [
    "Q3. How much do you need to use the following sentence while using regular expressions?\n",
    "\n",
    "import re"
   ]
  },
  {
   "cell_type": "markdown",
   "id": "7d50f16a",
   "metadata": {},
   "source": [
    "import re statement always has to be imported before using regular expressions."
   ]
  },
  {
   "cell_type": "code",
   "execution_count": null,
   "id": "8b71176a",
   "metadata": {},
   "outputs": [],
   "source": [
    "Q4. Which characters have special significance in square brackets when expressing a range, and under what circumstances?"
   ]
  },
  {
   "cell_type": "markdown",
   "id": "9a1aaac5",
   "metadata": {},
   "source": [
    "Hyphen -:\n",
    "\n",
    "The hyphen is used to specify a range of characters. For example, [a-z] represents all lowercase letters from 'a' to 'z', and [0-9] represents all digits from 0 to 9.\n",
    "\n",
    "\n",
    "Caret ^ (when placed as the first character inside square brackets):\n",
    "\n",
    "When the caret ^ is the first character inside square brackets, it negates the character class. For example, [^0-9] represents any character that is not a digit.\n",
    "\n",
    "\n",
    "Backslash \\:\n",
    "\n",
    "The backslash is used to escape special characters inside square brackets. For example, [\\^a-z] represents the literal caret character (^) followed by lowercase letters 'a' to 'z'.\n"
   ]
  },
  {
   "cell_type": "markdown",
   "id": "65936aea",
   "metadata": {},
   "source": [
    "Q5. How does compiling a regular-expression object benefit you?"
   ]
  },
  {
   "cell_type": "markdown",
   "id": "1dbd33a3",
   "metadata": {},
   "source": [
    "1. Improved Performance\n",
    "2. Code Readability\n",
    "3. Reuse of Patterns\n",
    "4. Avoiding Redundant Work"
   ]
  },
  {
   "cell_type": "code",
   "execution_count": null,
   "id": "a681a275",
   "metadata": {},
   "outputs": [],
   "source": [
    "Q6. What are some examples of how to use the match object returned by re.match and re.search?"
   ]
  },
  {
   "cell_type": "markdown",
   "id": "9ef3a580",
   "metadata": {},
   "source": [
    "The re.search() and re.match() both are functions of re module in python. These functions are very efficient and fast for searching in strings. The function searches for some substring in a string and returns a match object if found, else it returns none.\n",
    "\n",
    "There is a difference between the use of both functions. Both return the first match of a substring found in the string, but re.match() searches only from the beginning of the string and return match object if found. But if a match of substring is found somewhere in the middle of the string, it returns none.\n",
    "\n",
    "While re.search() searches for the whole string even if the string contains multi-lines and tries to find a match of the substring in all the lines of string"
   ]
  },
  {
   "cell_type": "code",
   "execution_count": 1,
   "id": "0ea3862c",
   "metadata": {},
   "outputs": [
    {
     "name": "stdout",
     "output_type": "stream",
     "text": [
      "<re.Match object; span=(58, 64), match='string'>\n",
      "None\n",
      "<re.Match object; span=(0, 6), match='string'>\n",
      "<re.Match object; span=(0, 6), match='string'>\n"
     ]
    }
   ],
   "source": [
    "import re\n",
    "Substring ='string' \n",
    "String1 ='I am learning regex with iNeuron regex is very useful for string matching. It is fast too.' \n",
    "String2 ='string We are learning regex with iNeuron regex is very useful for string matching. It is fast too.'\n",
    "print(re.search(Substring, String1, re.IGNORECASE))\n",
    "print(re.match(Substring, String1, re.IGNORECASE))\n",
    "print(re.search(Substring, String2, re.IGNORECASE))\n",
    "print(re.match(Substring, String2, re.IGNORECASE))"
   ]
  },
  {
   "cell_type": "markdown",
   "id": "65c9634d",
   "metadata": {},
   "source": [
    "Q7. What is the difference between using a vertical bar (|) as an alteration and using square brackets as a character set?"
   ]
  },
  {
   "cell_type": "markdown",
   "id": "444dc502",
   "metadata": {},
   "source": [
    "Vertical Bar (|):\n",
    "\n",
    "Represents alternation (logical OR).\n",
    "\n",
    "Matches entire patterns.\n",
    "\n",
    "Square Brackets ([]):\n",
    "\n",
    "Represents a character class.\n",
    "\n",
    "Matches individual characters from the specified set."
   ]
  },
  {
   "cell_type": "markdown",
   "id": "27256457",
   "metadata": {},
   "source": [
    "Q8. In regular-expression search patterns, why is it necessary to use the raw-string indicator (r)? In   replacement strings?"
   ]
  },
  {
   "cell_type": "markdown",
   "id": "41e74e47",
   "metadata": {},
   "source": [
    "Raw Strings are used in the regular-expression search patterns, so that blackslashes do not have to be escaped."
   ]
  },
  {
   "cell_type": "code",
   "execution_count": null,
   "id": "25cf597b",
   "metadata": {},
   "outputs": [],
   "source": []
  }
 ],
 "metadata": {
  "kernelspec": {
   "display_name": "Python 3 (ipykernel)",
   "language": "python",
   "name": "python3"
  },
  "language_info": {
   "codemirror_mode": {
    "name": "ipython",
    "version": 3
   },
   "file_extension": ".py",
   "mimetype": "text/x-python",
   "name": "python",
   "nbconvert_exporter": "python",
   "pygments_lexer": "ipython3",
   "version": "3.9.12"
  }
 },
 "nbformat": 4,
 "nbformat_minor": 5
}
