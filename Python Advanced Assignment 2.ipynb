{
 "cells": [
  {
   "cell_type": "markdown",
   "id": "ce284c0f",
   "metadata": {},
   "source": [
    "Q1. What is the relationship between classes and modules?"
   ]
  },
  {
   "cell_type": "markdown",
   "id": "9cd1668c",
   "metadata": {},
   "source": [
    "Classes in python are templates for creating objects. They contain variables and functions which define the class objects. At the same time, modules are python programs that can be imported into another python program. Importing a module enables the usage of the module’s functions and variables into another program."
   ]
  },
  {
   "cell_type": "markdown",
   "id": "6a92d878",
   "metadata": {},
   "source": [
    "Q2. How do you make instances and classes?"
   ]
  },
  {
   "cell_type": "code",
   "execution_count": 3,
   "id": "94c1c8a3",
   "metadata": {},
   "outputs": [],
   "source": [
    "class Animal:\n",
    "    def __init__(self, name, breed):\n",
    "        self.name = name\n",
    "        self.breed = breed\n",
    "        \n",
    "    def Name(self):\n",
    "        print(f'My name is {self.name} and my breed {self.breed}')\n",
    "        "
   ]
  },
  {
   "cell_type": "code",
   "execution_count": 4,
   "id": "55530827",
   "metadata": {},
   "outputs": [],
   "source": [
    "animal1 = Animal('Dollar', 'Great Dane')"
   ]
  },
  {
   "cell_type": "markdown",
   "id": "2a9a709d",
   "metadata": {},
   "source": [
    "Here, in the above example Name() is a instance method and animal1 is instance of a class.\n",
    "\n",
    "Animal is a class."
   ]
  },
  {
   "cell_type": "markdown",
   "id": "06d63ea8",
   "metadata": {},
   "source": [
    "Q3. Where and how should be class attributes created?"
   ]
  },
  {
   "cell_type": "markdown",
   "id": "8cee90a2",
   "metadata": {},
   "source": [
    "The Animal class has two attributes name and breed. It also has a methods that print some information about the Dog."
   ]
  },
  {
   "cell_type": "code",
   "execution_count": 5,
   "id": "333642c0",
   "metadata": {},
   "outputs": [],
   "source": [
    "class Animal:\n",
    "    def __init__(self, name, breed):\n",
    "        self.name = name\n",
    "        self.breed = breed\n",
    "        \n",
    "    def Name(self):\n",
    "        print(f'My name is {self.name} and my breed {self.breed}')\n",
    "\n",
    "animal1 = Animal('Dollar', 'Great Dane')"
   ]
  },
  {
   "cell_type": "markdown",
   "id": "efc1f1e0",
   "metadata": {},
   "source": [
    "Q4. Where and how are instance attributes created?"
   ]
  },
  {
   "cell_type": "code",
   "execution_count": 6,
   "id": "43999589",
   "metadata": {},
   "outputs": [],
   "source": [
    "class Circle:\n",
    "    info = 'We are calculating the circumference'\n",
    "    def __init__(self, radius):\n",
    "        self.pi = 3.14159\n",
    "        self.radius = radius\n",
    "\n",
    "    def area(self):\n",
    "        return self.pi * self.radius**2\n",
    "\n",
    "    def circumference(self):\n",
    "        return 2*self.pi * self.radius"
   ]
  },
  {
   "cell_type": "code",
   "execution_count": 7,
   "id": "ab9a35e8",
   "metadata": {},
   "outputs": [],
   "source": [
    "C1 = Circle(10)"
   ]
  },
  {
   "cell_type": "markdown",
   "id": "edb35e7d",
   "metadata": {},
   "source": [
    "Here in the above code, info is a class attribute and We then define an __init__ method that initializes an instance variable called radius."
   ]
  },
  {
   "cell_type": "markdown",
   "id": "05eab8ff",
   "metadata": {},
   "source": [
    "Q5. What does the term &quot;self&quot; in a Python class mean?"
   ]
  },
  {
   "cell_type": "markdown",
   "id": "8af5fb52",
   "metadata": {},
   "source": [
    "In Python, self is a reference to the instance of the class. It is used to access the attributes and methods of the class. When you create an instance of a class, Python automatically passes the instance as the first argument to any method defined in the class."
   ]
  },
  {
   "cell_type": "markdown",
   "id": "129752fd",
   "metadata": {},
   "source": [
    "Q6. How does a Python class handle operator overloading?"
   ]
  },
  {
   "cell_type": "markdown",
   "id": "13cc1db5",
   "metadata": {},
   "source": [
    "Operator overloading is a feature in Python that allows you to define how operators behave when applied to objects of your own classes. It allows you to use operators like +, -, *, /, etc. with your own objects. This is done by defining special methods in your class that correspond to the operators you want to overload."
   ]
  },
  {
   "cell_type": "code",
   "execution_count": 1,
   "id": "189c3312",
   "metadata": {},
   "outputs": [],
   "source": [
    "class Employee:\n",
    "    def __init__(self, aname, asalary, arole):\n",
    "        self.name = aname\n",
    "        self.salary = asalary\n",
    "        self.role = arole\n",
    "        \n",
    "    def print_details(self):\n",
    "        return f\"The name of the Employee is {self.name}, Salary is {self.salary} and the role is {self.role}\"\n",
    "    \n",
    "    def __add__(self, other):\n",
    "        return self.salary + other.salary\n",
    "    \n",
    "    def __truediv__(self, other):\n",
    "        return self.salary / other.salary\n",
    "    \n",
    "    def __repr__(self):\n",
    "        return f\"Employee:-- {self.name}, {self.salary}, {self.role}\""
   ]
  },
  {
   "cell_type": "code",
   "execution_count": 2,
   "id": "5b229199",
   "metadata": {},
   "outputs": [],
   "source": [
    "emp1 = Employee('Divyanshu', 145000, 'Analyst')\n",
    "emp2 = Employee('Rohan', 14500, 'cleaner')"
   ]
  },
  {
   "cell_type": "code",
   "execution_count": 3,
   "id": "07da1965",
   "metadata": {},
   "outputs": [
    {
     "name": "stdout",
     "output_type": "stream",
     "text": [
      "159500\n",
      "10.0\n",
      "Employee:-- Divyanshu, 145000, Analyst\n"
     ]
    }
   ],
   "source": [
    "print(emp1 + emp2)\n",
    "print(emp1/emp2)\n",
    "print(emp1)"
   ]
  },
  {
   "cell_type": "markdown",
   "id": "3761ced7",
   "metadata": {},
   "source": [
    "Q7. When do you consider allowing operator overloading of your classes?"
   ]
  },
  {
   "cell_type": "markdown",
   "id": "63a30aa2",
   "metadata": {},
   "source": [
    "Operator overloading is mostly useful when you're making a new class that falls into an existing \"Abstract Base Class\" (ABC) -- indeed, many of the ABCs in standard library module collections rely on the presence of certain special methods (and special methods, one with names starting and ending with double underscores AKA \"dunders\", are exactly the way you perform operator overloading in Python).\n",
    "\n",
    "In general, you should use operator overloading when it makes sense for your class. For example, if you're creating a class that represents a complex number, it would make sense to overload the + operator so that you can add two complex numbers together."
   ]
  },
  {
   "cell_type": "markdown",
   "id": "049e613a",
   "metadata": {},
   "source": [
    "Q8. What is the most popular form of operator overloading?"
   ]
  },
  {
   "cell_type": "markdown",
   "id": "c926b567",
   "metadata": {},
   "source": [
    "The most popular form of operator overloading in Python is probably the addition operator (+). This is because it can be used for usual addition and also for joining two different strings"
   ]
  },
  {
   "cell_type": "markdown",
   "id": "5669a0b8",
   "metadata": {},
   "source": [
    "Q9. What are the two most important concepts to grasp in order to comprehend Python OOP code?"
   ]
  },
  {
   "cell_type": "markdown",
   "id": "4b63f9ef",
   "metadata": {},
   "source": [
    "The two most important concepts to grasp in order to comprehend Python OOP code are classes and objects. A class is a blueprint for creating objects, while an object is an instance of a class."
   ]
  },
  {
   "cell_type": "code",
   "execution_count": null,
   "id": "926d0944",
   "metadata": {},
   "outputs": [],
   "source": []
  }
 ],
 "metadata": {
  "kernelspec": {
   "display_name": "Python 3 (ipykernel)",
   "language": "python",
   "name": "python3"
  },
  "language_info": {
   "codemirror_mode": {
    "name": "ipython",
    "version": 3
   },
   "file_extension": ".py",
   "mimetype": "text/x-python",
   "name": "python",
   "nbconvert_exporter": "python",
   "pygments_lexer": "ipython3",
   "version": "3.9.12"
  }
 },
 "nbformat": 4,
 "nbformat_minor": 5
}
