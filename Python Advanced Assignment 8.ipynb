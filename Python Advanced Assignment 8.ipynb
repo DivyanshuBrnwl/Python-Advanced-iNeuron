{
 "cells": [
  {
   "cell_type": "markdown",
   "id": "fa6e0435",
   "metadata": {},
   "source": [
    "Q1. What are the two latest user-defined exception constraints in Python 3.X?"
   ]
  },
  {
   "cell_type": "markdown",
   "id": "158ad80f",
   "metadata": {},
   "source": [
    "raise and assert are the two latest user-defined exception constraints in Python 3.X"
   ]
  },
  {
   "cell_type": "markdown",
   "id": "bd08ff0f",
   "metadata": {},
   "source": [
    "Q2. How are class-based exceptions that have been raised matched to handlers?"
   ]
  },
  {
   "cell_type": "markdown",
   "id": "c3352fda",
   "metadata": {},
   "source": [
    "In python user can defined its Exception by creating new class. This Exception class has to be derived, either directly or indirectly\n",
    "from built-in exception class. THis new exception class like other exception can be raised using raise statement with an optional\n",
    "error message."
   ]
  },
  {
   "cell_type": "code",
   "execution_count": 15,
   "id": "ac51804f",
   "metadata": {},
   "outputs": [
    {
     "ename": "ToYoungException",
     "evalue": "Not under rule of Universal adult Franchise",
     "output_type": "error",
     "traceback": [
      "\u001b[1;31m---------------------------------------------------------------------------\u001b[0m",
      "\u001b[1;31mToYoungException\u001b[0m                          Traceback (most recent call last)",
      "Cell \u001b[1;32mIn[15], line 7\u001b[0m\n\u001b[0;32m      5\u001b[0m age \u001b[38;5;241m=\u001b[39m \u001b[38;5;241m15\u001b[39m\n\u001b[0;32m      6\u001b[0m \u001b[38;5;28;01mif\u001b[39;00m age \u001b[38;5;241m<\u001b[39m \u001b[38;5;241m18\u001b[39m:\n\u001b[1;32m----> 7\u001b[0m     \u001b[38;5;28;01mraise\u001b[39;00m ToYoungException(\u001b[38;5;124m\"\u001b[39m\u001b[38;5;124mNot under rule of Universal adult Franchise\u001b[39m\u001b[38;5;124m\"\u001b[39m)\n",
      "\u001b[1;31mToYoungException\u001b[0m: Not under rule of Universal adult Franchise"
     ]
    }
   ],
   "source": [
    "class ToYoungException(Exception):\n",
    "    def __init__(self, msg):\n",
    "        self.msg = msg\n",
    "        \n",
    "age = 15\n",
    "if age < 18:\n",
    "    raise ToYoungException(\"Not under rule of Universal adult Franchise\")"
   ]
  },
  {
   "cell_type": "markdown",
   "id": "e7efeaff",
   "metadata": {},
   "source": [
    "Q3. Describe two methods for attaching context information to exception artefacts."
   ]
  },
  {
   "cell_type": "markdown",
   "id": "2c96d4b2",
   "metadata": {},
   "source": [
    "One method is to use the process() method of LoggerAdapter where the contextual information is added to the logging output. It passes the message and keyword arguments of the logging call, and it passes back modified versions of these to use in the call to the underlying logger\n",
    "\n",
    "Other method that can be used is exception(), Logs a messgae with level ERROR on this logger. The arguments are interpreted as for debug(). Exception info is added to the logging message."
   ]
  },
  {
   "cell_type": "markdown",
   "id": "69ef919f",
   "metadata": {},
   "source": [
    "Q4. Describe two methods for specifying the text of an exception object&#39;s error message."
   ]
  },
  {
   "cell_type": "code",
   "execution_count": 18,
   "id": "07c667c3",
   "metadata": {},
   "outputs": [
    {
     "ename": "AssertionError",
     "evalue": "a should be greater than b",
     "output_type": "error",
     "traceback": [
      "\u001b[1;31m---------------------------------------------------------------------------\u001b[0m",
      "\u001b[1;31mAssertionError\u001b[0m                            Traceback (most recent call last)",
      "Cell \u001b[1;32mIn[18], line 3\u001b[0m\n\u001b[0;32m      1\u001b[0m a \u001b[38;5;241m=\u001b[39m \u001b[38;5;241m10\u001b[39m\n\u001b[0;32m      2\u001b[0m b \u001b[38;5;241m=\u001b[39m \u001b[38;5;241m15\u001b[39m\n\u001b[1;32m----> 3\u001b[0m \u001b[38;5;28;01massert\u001b[39;00m  a\u001b[38;5;241m>\u001b[39mb, \u001b[38;5;124m\"\u001b[39m\u001b[38;5;124ma should be greater than b\u001b[39m\u001b[38;5;124m\"\u001b[39m\n",
      "\u001b[1;31mAssertionError\u001b[0m: a should be greater than b"
     ]
    }
   ],
   "source": [
    "a = 10\n",
    "b = 15\n",
    "assert  a>b, \"a should be greater than b\""
   ]
  },
  {
   "cell_type": "code",
   "execution_count": 19,
   "id": "2342fa2e",
   "metadata": {},
   "outputs": [
    {
     "ename": "ToYoungException",
     "evalue": "Not under rule of Universal adult Franchise",
     "output_type": "error",
     "traceback": [
      "\u001b[1;31m---------------------------------------------------------------------------\u001b[0m",
      "\u001b[1;31mToYoungException\u001b[0m                          Traceback (most recent call last)",
      "Cell \u001b[1;32mIn[19], line 7\u001b[0m\n\u001b[0;32m      5\u001b[0m age \u001b[38;5;241m=\u001b[39m \u001b[38;5;241m15\u001b[39m\n\u001b[0;32m      6\u001b[0m \u001b[38;5;28;01mif\u001b[39;00m age \u001b[38;5;241m<\u001b[39m \u001b[38;5;241m18\u001b[39m:\n\u001b[1;32m----> 7\u001b[0m     \u001b[38;5;28;01mraise\u001b[39;00m ToYoungException(\u001b[38;5;124m\"\u001b[39m\u001b[38;5;124mNot under rule of Universal adult Franchise\u001b[39m\u001b[38;5;124m\"\u001b[39m)\n",
      "\u001b[1;31mToYoungException\u001b[0m: Not under rule of Universal adult Franchise"
     ]
    }
   ],
   "source": [
    "class ToYoungException(Exception):\n",
    "    def __init__(self, msg):\n",
    "        self.msg = msg\n",
    "        \n",
    "age = 15\n",
    "if age < 18:\n",
    "    raise ToYoungException(\"Not under rule of Universal adult Franchise\")"
   ]
  },
  {
   "cell_type": "markdown",
   "id": "4f063c1a",
   "metadata": {},
   "source": [
    " raise and assert are two methods for specifying the text of an exception object's error message.raise statement is used to trigger explicit exception, if certain condition is not as per requirement of programmer. it helps in triggering exception as per need of programmer and logic.\n",
    "\n",
    "There are few assertions that programmer always want to be True to avoid code failure. This type of requirment is fullfilled by assert statement. This statement takes a Boolean Condition output of which if True, further program executes. if output of assert statement is False it raises an Assertion Error."
   ]
  },
  {
   "cell_type": "markdown",
   "id": "8989470e",
   "metadata": {},
   "source": [
    "Q5. Why do you no longer use string-based exceptions?"
   ]
  },
  {
   "cell_type": "markdown",
   "id": "3cc05557",
   "metadata": {},
   "source": [
    "Python no longer uses string-based exceptions because it is possible (although unlikely) that this change broke existing code. The Python interpreter can be invoked with the command line option -X to disable this feature and use string exceptions like before. This option is a temporary measure - eventually, the string-based standard exceptions will be removed from the language altogether12.\n",
    "\n",
    "The reason for this change is that class-based exceptions are more flexible than string-based exceptions. They can be subclassed and extended to provide additional functionality"
   ]
  }
 ],
 "metadata": {
  "kernelspec": {
   "display_name": "Python 3 (ipykernel)",
   "language": "python",
   "name": "python3"
  },
  "language_info": {
   "codemirror_mode": {
    "name": "ipython",
    "version": 3
   },
   "file_extension": ".py",
   "mimetype": "text/x-python",
   "name": "python",
   "nbconvert_exporter": "python",
   "pygments_lexer": "ipython3",
   "version": "3.9.12"
  }
 },
 "nbformat": 4,
 "nbformat_minor": 5
}
