{
 "cells": [
  {
   "cell_type": "markdown",
   "id": "fc7d8cfe",
   "metadata": {},
   "source": [
    "Q1. What is the concept of a metaclass?"
   ]
  },
  {
   "cell_type": "markdown",
   "id": "14adf542",
   "metadata": {},
   "source": [
    "Metaclasses are a powerful but advanced feature, and they are not commonly needed in everyday programming. They are often used in frameworks, libraries, and other situations where customization of class creation is necessary."
   ]
  },
  {
   "cell_type": "markdown",
   "id": "203de3a9",
   "metadata": {},
   "source": [
    "Q2. What is the best way to declare a class&#39;s metaclass?"
   ]
  },
  {
   "cell_type": "code",
   "execution_count": 2,
   "id": "83e4df3d",
   "metadata": {},
   "outputs": [],
   "source": [
    "class MyMeta(type):\n",
    "    pass\n",
    "# Metaclass definition\n",
    "\n",
    "class MyClass(metaclass=MyMeta):\n",
    "# Class definition\n",
    "    pass\n"
   ]
  },
  {
   "cell_type": "markdown",
   "id": "becada74",
   "metadata": {},
   "source": [
    "Q3. How do class decorators overlap with metaclasses for handling classes?"
   ]
  },
  {
   "cell_type": "markdown",
   "id": "c3baa6a6",
   "metadata": {},
   "source": [
    "Both decorators and metaclasses can be used to generate classes.\n",
    "\n",
    "Decorators can be used to manage both instances and classes, \n",
    "and they intersect with metaclasses in the second of these roles."
   ]
  },
  {
   "cell_type": "markdown",
   "id": "d6ea4d1e",
   "metadata": {},
   "source": [
    "Q4. How do class decorators overlap with metaclasses for handling instances?"
   ]
  },
  {
   "cell_type": "code",
   "execution_count": null,
   "id": "324c83dc",
   "metadata": {},
   "outputs": [],
   "source": [
    "(A)\n",
    "Decorators and Metaclasses can be used to create instances.\n",
    "\n",
    "Class decorators as a tool for augmenting instance creation calls. \n",
    "Because they work by automatically rebinding a class name to the result of a function"
   ]
  }
 ],
 "metadata": {
  "kernelspec": {
   "display_name": "Python 3 (ipykernel)",
   "language": "python",
   "name": "python3"
  },
  "language_info": {
   "codemirror_mode": {
    "name": "ipython",
    "version": 3
   },
   "file_extension": ".py",
   "mimetype": "text/x-python",
   "name": "python",
   "nbconvert_exporter": "python",
   "pygments_lexer": "ipython3",
   "version": "3.9.12"
  }
 },
 "nbformat": 4,
 "nbformat_minor": 5
}
