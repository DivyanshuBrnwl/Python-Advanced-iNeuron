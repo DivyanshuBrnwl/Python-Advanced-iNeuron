{
 "cells": [
  {
   "cell_type": "markdown",
   "id": "631fc59e",
   "metadata": {},
   "source": [
    "Q1. What is the purpose of the try statement?"
   ]
  },
  {
   "cell_type": "markdown",
   "id": "b2d57a98",
   "metadata": {},
   "source": [
    "The purpose of try statement is to test the block of code for error and handle them gracefully."
   ]
  },
  {
   "cell_type": "markdown",
   "id": "ef1aa25d",
   "metadata": {},
   "source": [
    "Q2. What are the two most popular try statement variations?"
   ]
  },
  {
   "cell_type": "markdown",
   "id": "1b1f7b7a",
   "metadata": {},
   "source": [
    "The two most popular try statement variations are:-\n",
    "1. Using a single except block: This is a way to handle any exception that occurs in the try block with the same code. The except block can use the Exception class to catch all types of exceptions, or a specific exception type to catch only that type.\n",
    "2. Using multiple except blocks: This is a way to handle different types of exceptions that occur in the try block with different code. The except blocks can use different exception types to catch specific types of exceptions, and they are evaluated in order.     "
   ]
  },
  {
   "cell_type": "markdown",
   "id": "c7cdd4bc",
   "metadata": {},
   "source": [
    "Q3. What is the purpose of the raise statement?"
   ]
  },
  {
   "cell_type": "markdown",
   "id": "53d6e1af",
   "metadata": {},
   "source": [
    "The purpose of the raise statement is to manually throw or raise an exception.|"
   ]
  },
  {
   "cell_type": "markdown",
   "id": "c21c9ce4",
   "metadata": {},
   "source": [
    "Q4. What does the assert statement do, and what other statement is it like?"
   ]
  },
  {
   "cell_type": "code",
   "execution_count": 15,
   "id": "99c252a3",
   "metadata": {},
   "outputs": [
    {
     "name": "stdout",
     "output_type": "stream",
     "text": [
      "Enter a number :- 9\n"
     ]
    }
   ],
   "source": [
    "x = int(input(\"Enter a number :- \"))\n",
    "assert x > 0, \"x must be positive\""
   ]
  },
  {
   "cell_type": "code",
   "execution_count": 16,
   "id": "b2c0f412",
   "metadata": {},
   "outputs": [
    {
     "name": "stdout",
     "output_type": "stream",
     "text": [
      "Enter number:- 9\n",
      "Enter number:- 8\n"
     ]
    },
    {
     "ename": "AssertionError",
     "evalue": "Numbers are not equal",
     "output_type": "error",
     "traceback": [
      "\u001b[1;31m---------------------------------------------------------------------------\u001b[0m",
      "\u001b[1;31mAssertionError\u001b[0m                            Traceback (most recent call last)",
      "Cell \u001b[1;32mIn[16], line 3\u001b[0m\n\u001b[0;32m      1\u001b[0m var \u001b[38;5;241m=\u001b[39m \u001b[38;5;28mint\u001b[39m(\u001b[38;5;28minput\u001b[39m(\u001b[38;5;124m\"\u001b[39m\u001b[38;5;124mEnter number:- \u001b[39m\u001b[38;5;124m\"\u001b[39m))\n\u001b[0;32m      2\u001b[0m var2 \u001b[38;5;241m=\u001b[39m \u001b[38;5;28mint\u001b[39m(\u001b[38;5;28minput\u001b[39m(\u001b[38;5;124m\"\u001b[39m\u001b[38;5;124mEnter number:- \u001b[39m\u001b[38;5;124m\"\u001b[39m))\n\u001b[1;32m----> 3\u001b[0m \u001b[38;5;28;01massert\u001b[39;00m var \u001b[38;5;241m==\u001b[39m var2, \u001b[38;5;124m\"\u001b[39m\u001b[38;5;124mNumbers are not equal\u001b[39m\u001b[38;5;124m\"\u001b[39m\n",
      "\u001b[1;31mAssertionError\u001b[0m: Numbers are not equal"
     ]
    }
   ],
   "source": [
    "var = int(input(\"Enter number:- \"))\n",
    "var2 = int(input(\"Enter number:- \"))\n",
    "assert var == var2, \"Numbers are not equal\""
   ]
  },
  {
   "cell_type": "markdown",
   "id": "74a01b9b",
   "metadata": {},
   "source": [
    "The assert in python is used to test for certain condition and raise and assertion if the condition is not met. I takes to argument condition to check and message to raise if the condition is not met.  the assert statement is similar to the if-raise statement, which also checks for a condition and raises an exception if the condition is not met. However, the assert statement is more concise and can be disabled by running the code with the -O or -OO options. The if-raise statement cannot be disabled and is always executed."
   ]
  },
  {
   "cell_type": "markdown",
   "id": "8f150cbc",
   "metadata": {},
   "source": [
    "Q5. What is the purpose of the with/as argument, and what other statement is it like?"
   ]
  },
  {
   "cell_type": "markdown",
   "id": "b9f9b21d",
   "metadata": {},
   "source": [
    "The with statement is a way to simplify the code that uses a resource that needs to be opened and closed, such as a file, a socket, a lock, etc. The with statement automatically calls the __enter__ and __exit__ methods of the resource object, which handle the opening and closing operations. The __enter__ method returns the resource object, which can be assigned a name using the as keyword. The as keyword is optional, but it makes the code more readable and convenient. For example, if you want to read a file and print its contents, you can use the with statement like this:"
   ]
  },
  {
   "cell_type": "code",
   "execution_count": 20,
   "id": "35cdb611",
   "metadata": {},
   "outputs": [],
   "source": [
    "# with open(\"file.txt\", \"r\") as f:\n",
    "#     data = f.read()\n",
    "#     print(data)"
   ]
  },
  {
   "cell_type": "markdown",
   "id": "9612a27a",
   "metadata": {},
   "source": [
    "It is similar to the try-finally statement, which also ensures that some code is executed after a block of code, even if an exception occurs."
   ]
  },
  {
   "cell_type": "code",
   "execution_count": null,
   "id": "ec706322",
   "metadata": {},
   "outputs": [],
   "source": []
  }
 ],
 "metadata": {
  "kernelspec": {
   "display_name": "Python 3 (ipykernel)",
   "language": "python",
   "name": "python3"
  },
  "language_info": {
   "codemirror_mode": {
    "name": "ipython",
    "version": 3
   },
   "file_extension": ".py",
   "mimetype": "text/x-python",
   "name": "python",
   "nbconvert_exporter": "python",
   "pygments_lexer": "ipython3",
   "version": "3.9.12"
  }
 },
 "nbformat": 4,
 "nbformat_minor": 5
}
