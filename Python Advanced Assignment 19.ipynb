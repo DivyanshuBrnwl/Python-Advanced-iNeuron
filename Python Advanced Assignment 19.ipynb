{
 "cells": [
  {
   "cell_type": "code",
   "execution_count": null,
   "id": "3fd0d7f8",
   "metadata": {},
   "outputs": [],
   "source": [
    "Q1. Define the relationship between a class and its instances. Is it a one-to-one or a one-to-many\n",
    "partnership, for example?"
   ]
  },
  {
   "cell_type": "markdown",
   "id": "6dcdc4e1",
   "metadata": {},
   "source": [
    "1. The relationship between a class and its instances is often described as a \"class-instance relationship\".\n",
    "\n",
    "2. Each instance is an instantiation of the class, inheriting the attributes and behaviors defined by the class.\n",
    "\n",
    "3. Changes made to the class (modifying attributes or adding methods) can affect all instances of that class."
   ]
  },
  {
   "cell_type": "code",
   "execution_count": 2,
   "id": "1b15ed2f",
   "metadata": {},
   "outputs": [],
   "source": [
    "class Name:\n",
    "    def __init__(self, name, capital):\n",
    "        self.name = name \n",
    "        self.capital = capital\n",
    "    \n",
    "    def Country_Cap(self):\n",
    "        return f\"{self.name} : {self.capital}\""
   ]
  },
  {
   "cell_type": "code",
   "execution_count": 10,
   "id": "b9da2936",
   "metadata": {},
   "outputs": [],
   "source": [
    "name1 = Name('India', 'Delhi')\n",
    "name2 = Name('Bangladesh', 'Dhaka')"
   ]
  },
  {
   "cell_type": "code",
   "execution_count": 9,
   "id": "40a700f0",
   "metadata": {},
   "outputs": [
    {
     "data": {
      "text/plain": [
       "'India : Delhi'"
      ]
     },
     "execution_count": 9,
     "metadata": {},
     "output_type": "execute_result"
    }
   ],
   "source": [
    "name1.Country_Cap()"
   ]
  },
  {
   "cell_type": "code",
   "execution_count": 11,
   "id": "c33d4ae7",
   "metadata": {},
   "outputs": [
    {
     "data": {
      "text/plain": [
       "'Bangladesh : Dhaka'"
      ]
     },
     "execution_count": 11,
     "metadata": {},
     "output_type": "execute_result"
    }
   ],
   "source": [
    "name2.Country_Cap()"
   ]
  },
  {
   "cell_type": "markdown",
   "id": "17445031",
   "metadata": {},
   "source": [
    "Here Name Is a class and name1 and name2 are instances of a class."
   ]
  },
  {
   "cell_type": "markdown",
   "id": "6ec7910d",
   "metadata": {},
   "source": [
    "Q2. What kind of data is held only in an instance?"
   ]
  },
  {
   "cell_type": "markdown",
   "id": "27843f4f",
   "metadata": {},
   "source": [
    "the data held only in an instance (i.e., specific to an object) is typically referred to as instance data or instance variables. "
   ]
  },
  {
   "cell_type": "code",
   "execution_count": null,
   "id": "dddad5b5",
   "metadata": {},
   "outputs": [],
   "source": [
    "Q3. What kind of knowledge is stored in a class?"
   ]
  },
  {
   "cell_type": "markdown",
   "id": "8772420d",
   "metadata": {},
   "source": [
    "The kind of knowledge stored in a class are:- "
   ]
  },
  {
   "cell_type": "code",
   "execution_count": null,
   "id": "ceab6a01",
   "metadata": {},
   "outputs": [],
   "source": []
  },
  {
   "cell_type": "code",
   "execution_count": 12,
   "id": "15a63219",
   "metadata": {},
   "outputs": [],
   "source": [
    "class Name:\n",
    "    def __init__(self, name, capital):\n",
    "        self.name = name  #attribute\n",
    "        self.capital = capital   #attribute"
   ]
  },
  {
   "cell_type": "markdown",
   "id": "c7332893",
   "metadata": {},
   "source": [
    "1. Attributes (Data Members):\n",
    "\n",
    "A class defines attributes, also known as data members or fields, which represent the properties or characteristics of the objects created from the class."
   ]
  },
  {
   "cell_type": "code",
   "execution_count": 15,
   "id": "5773caf6",
   "metadata": {},
   "outputs": [],
   "source": [
    "class Name:\n",
    "    def __init__(self, name, capital):\n",
    "        chart = 'Country Info'\n",
    "        self.name = name \n",
    "        self.capital = capital\n",
    "    \n",
    "    def Country_Cap(self): #Method\n",
    "        return f\"{self.name} : {self.capital}\""
   ]
  },
  {
   "cell_type": "markdown",
   "id": "86be9e1d",
   "metadata": {},
   "source": [
    "2. Methods (Member Functions):\n",
    "\n",
    "A class includes methods, also known as member functions, which define the behaviors or actions that objects created from the class can perform."
   ]
  },
  {
   "cell_type": "markdown",
   "id": "c1425a78",
   "metadata": {},
   "source": [
    "3. Constructor:\n",
    "\n",
    "The class often includes a special method called a constructor (__init__ in Python), responsible for initializing the attributes when an object is created."
   ]
  },
  {
   "cell_type": "code",
   "execution_count": 16,
   "id": "785814b7",
   "metadata": {},
   "outputs": [],
   "source": [
    "class Name:\n",
    "    def __init__(self, name, capital):\n",
    "        chart = 'Country Info'  # Class Variable\n",
    "        self.name = name \n",
    "        self.capital = capital"
   ]
  },
  {
   "cell_type": "markdown",
   "id": "320866c4",
   "metadata": {},
   "source": [
    "4. Class Variables:\n",
    "\n",
    "Class variables are shared among all instances of a class and are used to store data that is common to the entire class."
   ]
  },
  {
   "cell_type": "markdown",
   "id": "f39a38d9",
   "metadata": {},
   "source": [
    "5. Static Methods and Class Methods:\n",
    "    A static method is a method that belongs to a class rather than an instance of the class.\n",
    "    A class method is a method that takes the class itself as its first parameter (conventionally named cls)."
   ]
  },
  {
   "cell_type": "markdown",
   "id": "a5f0c5b0",
   "metadata": {},
   "source": [
    "Q4. What exactly is a method, and how is it different from a regular function?"
   ]
  },
  {
   "cell_type": "markdown",
   "id": "cebf006c",
   "metadata": {},
   "source": [
    "Methods can access and operate on the data within the object or class they are associated with, while functions are standalone and don't have this inherent association."
   ]
  },
  {
   "cell_type": "markdown",
   "id": "61ad9be8",
   "metadata": {},
   "source": [
    "Q5. Is inheritance supported in Python, and if so, what is the syntax?"
   ]
  },
  {
   "cell_type": "markdown",
   "id": "37474602",
   "metadata": {},
   "source": [
    "Yes Inheritance is supported in Python."
   ]
  },
  {
   "cell_type": "code",
   "execution_count": 25,
   "id": "bca2c303",
   "metadata": {},
   "outputs": [],
   "source": [
    "class Vehicle:\n",
    "    def __init__(self, brand, model):\n",
    "        self.brand = brand\n",
    "        self.model = model\n",
    "\n",
    "    def display_info(self):\n",
    "        print(f\"{self.brand} {self.model}\")"
   ]
  },
  {
   "cell_type": "code",
   "execution_count": 34,
   "id": "f340a200",
   "metadata": {},
   "outputs": [],
   "source": [
    "class Car(Vehicle):\n",
    "    def __init__(self, brand, model, color):\n",
    "        super().__init__(brand, model)\n",
    "        self.color = color\n",
    "            \n",
    "    def display_info(self):\n",
    "        print(f\"{self.color} {self.brand} {self.model} - Car\")"
   ]
  },
  {
   "cell_type": "code",
   "execution_count": 35,
   "id": "0c21fd20",
   "metadata": {},
   "outputs": [],
   "source": [
    "V1 = Vehicle('Toyota', 'Yaaris')"
   ]
  },
  {
   "cell_type": "code",
   "execution_count": 38,
   "id": "5efb3cad",
   "metadata": {},
   "outputs": [],
   "source": [
    "C1 = Car('Tata', 'Altroz','Black')"
   ]
  },
  {
   "cell_type": "code",
   "execution_count": 39,
   "id": "0494498f",
   "metadata": {},
   "outputs": [
    {
     "name": "stdout",
     "output_type": "stream",
     "text": [
      "Black Tata Altroz - Car\n"
     ]
    }
   ],
   "source": [
    "C1.display_info()"
   ]
  },
  {
   "cell_type": "markdown",
   "id": "6d495db4",
   "metadata": {},
   "source": [
    "Q6. How much encapsulation (making instance or class variables private) does Python support?"
   ]
  },
  {
   "cell_type": "code",
   "execution_count": 44,
   "id": "3171f611",
   "metadata": {},
   "outputs": [],
   "source": [
    "class Animal:\n",
    "    def __init__(self, name):\n",
    "        self.name = name\n",
    "        self.__private_variable = \"I am private.\"\n",
    "        \n",
    "    def info(self):\n",
    "        print(f\"I am a {self.name}\")\n",
    "        \n",
    "        "
   ]
  },
  {
   "cell_type": "code",
   "execution_count": 45,
   "id": "0ad4cb09",
   "metadata": {},
   "outputs": [],
   "source": [
    "creature1 = Animal('Dog')"
   ]
  },
  {
   "cell_type": "code",
   "execution_count": 49,
   "id": "1ea67dde",
   "metadata": {},
   "outputs": [
    {
     "name": "stdout",
     "output_type": "stream",
     "text": [
      "I am a Dog\n"
     ]
    }
   ],
   "source": [
    "creature1.info()"
   ]
  },
  {
   "cell_type": "code",
   "execution_count": 50,
   "id": "46a439f8",
   "metadata": {},
   "outputs": [
    {
     "data": {
      "text/plain": [
       "'I am private.'"
      ]
     },
     "execution_count": 50,
     "metadata": {},
     "output_type": "execute_result"
    }
   ],
   "source": [
    "creature1._Animal__private_variable"
   ]
  },
  {
   "cell_type": "markdown",
   "id": "fd0edf5b",
   "metadata": {},
   "source": [
    "Single Leading Underscore (_ - Protected):\n",
    "\n",
    "A single leading underscore before a variable or method name indicates that it is intended for internal use. "
   ]
  },
  {
   "cell_type": "markdown",
   "id": "b7f7e8dd",
   "metadata": {},
   "source": [
    "Double Leading Underscore (__ - Private):\n",
    "\n",
    "A double leading underscore before a variable or method name invokes name mangling."
   ]
  },
  {
   "cell_type": "markdown",
   "id": "54552dac",
   "metadata": {},
   "source": [
    "Q7. How do you distinguish between a class variable and an instance variable?"
   ]
  },
  {
   "cell_type": "markdown",
   "id": "b24e17a4",
   "metadata": {},
   "source": [
    "class variables are shared among all instances and are defined at the class level, while instance variables are unique to each instance and are defined within the constructor method"
   ]
  },
  {
   "cell_type": "code",
   "execution_count": 51,
   "id": "f3f3ba0c",
   "metadata": {},
   "outputs": [],
   "source": [
    "class Name:\n",
    "    def __init__(self, name, capital):\n",
    "        chart = 'Country Info'  # Class Variable\n",
    "        self.name = name # Instance Variable\n",
    "        self.capital = capital"
   ]
  },
  {
   "cell_type": "markdown",
   "id": "a82544d2",
   "metadata": {},
   "source": [
    "Q8. When, if ever, can self be included in a class's method definitions?"
   ]
  },
  {
   "cell_type": "markdown",
   "id": "bf8f1116",
   "metadata": {},
   "source": [
    "Yes, self can be included in class method definitions to access the instance variables inside class methods."
   ]
  },
  {
   "cell_type": "code",
   "execution_count": null,
   "id": "a40a7fba",
   "metadata": {},
   "outputs": [],
   "source": [
    "Q9. What is the difference between the _ add _ and the _ radd _ methods?"
   ]
  },
  {
   "cell_type": "markdown",
   "id": "e175dbf3",
   "metadata": {},
   "source": [
    "__add__ is called when the object is on the left side of the addition operator.\n",
    "\n",
    "__radd__ is called when the object is on the right side, and the left side does not implement __add__ or returns NotImplemented.\n",
    "\n",
    "Both methods allow you to customize the behavior of addition for objects of your class"
   ]
  },
  {
   "cell_type": "code",
   "execution_count": null,
   "id": "145162df",
   "metadata": {},
   "outputs": [],
   "source": [
    "Q10. Is the _ init _ method inherited by subclasses? What do you do if you need to customize its behavior within a subclass?"
   ]
  },
  {
   "cell_type": "code",
   "execution_count": 52,
   "id": "bd2f54ce",
   "metadata": {},
   "outputs": [
    {
     "name": "stdout",
     "output_type": "stream",
     "text": [
      "Unknown\n",
      "Dog\n",
      "Buddy\n",
      "Generic animal sound\n",
      "Woof!\n",
      "Buddy says: Hello!\n"
     ]
    }
   ],
   "source": [
    "class Animal:\n",
    "    def __init__(self, species):\n",
    "        self.species = species\n",
    "        self.sound = \"Generic animal sound\"\n",
    "\n",
    "    def make_sound(self):\n",
    "        print(self.sound)\n",
    "\n",
    "class Dog(Animal):\n",
    "    def __init__(self, name, breed):\n",
    "        # Call the __init__ method of the parent class using super()\n",
    "        super().__init__(species=\"Dog\")\n",
    "        self.name = name\n",
    "        self.breed = breed\n",
    "        self.sound = \"Woof!\"\n",
    "\n",
    "    def greet(self):\n",
    "        print(f\"{self.name} says: Hello!\")\n",
    "\n",
    "# Creating instances of the subclasses\n",
    "generic_animal = Animal(species=\"Unknown\")\n",
    "my_dog = Dog(name=\"Buddy\", breed=\"Golden Retriever\")\n",
    "\n",
    "# Accessing attributes and methods\n",
    "print(generic_animal.species)  \n",
    "print(my_dog.species)          \n",
    "print(my_dog.name)             \n",
    "\n",
    "generic_animal.make_sound()  \n",
    "my_dog.make_sound()            \n",
    "my_dog.greet()                "
   ]
  },
  {
   "cell_type": "code",
   "execution_count": null,
   "id": "38fdee8f",
   "metadata": {},
   "outputs": [],
   "source": []
  }
 ],
 "metadata": {
  "kernelspec": {
   "display_name": "Python 3 (ipykernel)",
   "language": "python",
   "name": "python3"
  },
  "language_info": {
   "codemirror_mode": {
    "name": "ipython",
    "version": 3
   },
   "file_extension": ".py",
   "mimetype": "text/x-python",
   "name": "python",
   "nbconvert_exporter": "python",
   "pygments_lexer": "ipython3",
   "version": "3.9.12"
  }
 },
 "nbformat": 4,
 "nbformat_minor": 5
}
